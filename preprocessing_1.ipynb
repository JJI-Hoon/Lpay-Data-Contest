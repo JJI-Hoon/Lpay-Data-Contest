{
 "cells": [
  {
   "cell_type": "code",
   "execution_count": 1,
   "metadata": {
    "ExecuteTime": {
     "end_time": "2022-07-28T16:13:33.477750Z",
     "start_time": "2022-07-28T16:13:25.450480Z"
    }
   },
   "outputs": [],
   "source": [
    "import pandas as pd\n",
    "import numpy as np\n",
    "import matplotlib.pyplot as plt\n",
    "import seaborn as sns"
   ]
  },
  {
   "cell_type": "code",
   "execution_count": 2,
   "metadata": {
    "ExecuteTime": {
     "end_time": "2022-07-28T16:13:44.438580Z",
     "start_time": "2022-07-28T16:13:33.482789Z"
    },
    "scrolled": true
   },
   "outputs": [
    {
     "name": "stderr",
     "output_type": "stream",
     "text": [
      "C:\\Users\\legg0\\anaconda3\\lib\\site-packages\\IPython\\core\\interactiveshell.py:3145: DtypeWarning: Columns (4) have mixed types.Specify dtype option on import or set low_memory=False.\n",
      "  has_raised = await self.run_ast_nodes(code_ast.body, cell_name,\n"
     ]
    }
   ],
   "source": [
    "cust_demo = pd.read_csv('C:/Users/legg0/Desktop/롯데멤버쉽 공모전/Data/LPOINT_BIG_COMP_01_DEMO.csv')\n",
    "cust_buy = pd.read_csv('C:/Users/legg0/Desktop/롯데멤버쉽 공모전/Data/LPOINT_BIG_COMP_02_PDDE.csv')\n",
    "aff_info = pd.read_csv('C:/Users/legg0/Desktop/롯데멤버쉽 공모전/Data/LPOINT_BIG_COMP_03_COP_U.csv')\n",
    "goods_info = pd.read_csv('C:/Users/legg0/Desktop/롯데멤버쉽 공모전/Data/LPOINT_BIG_COMP_04_PD_CLAC.csv')\n",
    "store_info = pd.read_csv('C:/Users/legg0/Desktop/롯데멤버쉽 공모전/Data/LPOINT_BIG_COMP_05_BR.csv')\n",
    "Lpay_info = pd.read_csv('C:/Users/legg0/Desktop/롯데멤버쉽 공모전/Data/LPOINT_BIG_COMP_06_LPAY.csv')"
   ]
  },
  {
   "cell_type": "markdown",
   "metadata": {},
   "source": [
    "## Dataset"
   ]
  },
  {
   "cell_type": "markdown",
   "metadata": {},
   "source": [
    "Dataset info 확인\n",
    "\n",
    "* cust : 고객의 고유 식별번호\n",
    "* ma_fem_dv : 남성, 여성\n",
    "* ages : 20대 ~ 70대 이상\n",
    "* zon_hlv : 지역 대분류 코드\n",
    "* zom_mcls: 지역 중분류 코드\n",
    "* rct_no : 장바구니 식별 번호(구매 고유 식별번호)\n",
    "* chnl_dv : 온라인/오프라인 구분 (1: 오프라인 / 2: 온라인)\n",
    "* pd_c : 상품코드\n",
    "* pd_nm: 상품 명\n",
    "* clac_hlv_nm : 상품 카테고리 대분류명\n",
    "* clac_mcls_nm : 상품 카테고리 중분류명\n",
    "* br_c : 구매 점포 구분 코드\n",
    "* de_dt : YYYY/MM/DD\n",
    "* de_hr : HH\n",
    "* buy_am : 구매한 금액\n",
    "* buy_ct : 구매한 수량\n",
    "* cop_c : A01-06(유통사), B01(숙박업종), C01-2(엔터테인먼트), D01~2: F&B, E01: 렌탈업종, L00(기타제휴사), L01(비제휴사)"
   ]
  },
  {
   "cell_type": "markdown",
   "metadata": {},
   "source": [
    "* 유통사 제외 엘페이 Rows 제거\n",
    "* 새로운 Df 정의 (엘페이)"
   ]
  },
  {
   "cell_type": "code",
   "execution_count": 3,
   "metadata": {
    "ExecuteTime": {
     "end_time": "2022-07-28T16:13:44.651304Z",
     "start_time": "2022-07-28T16:13:44.442538Z"
    }
   },
   "outputs": [
    {
     "data": {
      "text/html": [
       "<div>\n",
       "<style scoped>\n",
       "    .dataframe tbody tr th:only-of-type {\n",
       "        vertical-align: middle;\n",
       "    }\n",
       "\n",
       "    .dataframe tbody tr th {\n",
       "        vertical-align: top;\n",
       "    }\n",
       "\n",
       "    .dataframe thead th {\n",
       "        text-align: right;\n",
       "    }\n",
       "</style>\n",
       "<table border=\"1\" class=\"dataframe\">\n",
       "  <thead>\n",
       "    <tr style=\"text-align: right;\">\n",
       "      <th></th>\n",
       "      <th>cust</th>\n",
       "      <th>rct_no</th>\n",
       "      <th>cop_c</th>\n",
       "      <th>chnl_dv</th>\n",
       "      <th>de_dt</th>\n",
       "      <th>de_hr</th>\n",
       "      <th>buy_am</th>\n",
       "    </tr>\n",
       "  </thead>\n",
       "  <tbody>\n",
       "    <tr>\n",
       "      <th>0</th>\n",
       "      <td>M629656521</td>\n",
       "      <td>210803210311226</td>\n",
       "      <td>A03</td>\n",
       "      <td>1</td>\n",
       "      <td>20210803</td>\n",
       "      <td>21</td>\n",
       "      <td>10900</td>\n",
       "    </tr>\n",
       "    <tr>\n",
       "      <th>1</th>\n",
       "      <td>M205142844</td>\n",
       "      <td>210803140275112</td>\n",
       "      <td>A02</td>\n",
       "      <td>1</td>\n",
       "      <td>20210803</td>\n",
       "      <td>14</td>\n",
       "      <td>9000</td>\n",
       "    </tr>\n",
       "    <tr>\n",
       "      <th>2</th>\n",
       "      <td>M737010483</td>\n",
       "      <td>210803040637594</td>\n",
       "      <td>A06</td>\n",
       "      <td>2</td>\n",
       "      <td>20210803</td>\n",
       "      <td>4</td>\n",
       "      <td>36740</td>\n",
       "    </tr>\n",
       "    <tr>\n",
       "      <th>3</th>\n",
       "      <td>M707775545</td>\n",
       "      <td>210803140675502</td>\n",
       "      <td>A06</td>\n",
       "      <td>2</td>\n",
       "      <td>20210803</td>\n",
       "      <td>14</td>\n",
       "      <td>138500</td>\n",
       "    </tr>\n",
       "    <tr>\n",
       "      <th>4</th>\n",
       "      <td>M848083175</td>\n",
       "      <td>210803180197432</td>\n",
       "      <td>A01</td>\n",
       "      <td>1</td>\n",
       "      <td>20210803</td>\n",
       "      <td>18</td>\n",
       "      <td>14000</td>\n",
       "    </tr>\n",
       "    <tr>\n",
       "      <th>...</th>\n",
       "      <td>...</td>\n",
       "      <td>...</td>\n",
       "      <td>...</td>\n",
       "      <td>...</td>\n",
       "      <td>...</td>\n",
       "      <td>...</td>\n",
       "      <td>...</td>\n",
       "    </tr>\n",
       "    <tr>\n",
       "      <th>227992</th>\n",
       "      <td>M470112503</td>\n",
       "      <td>210104210651243</td>\n",
       "      <td>A06</td>\n",
       "      <td>2</td>\n",
       "      <td>20210104</td>\n",
       "      <td>21</td>\n",
       "      <td>50920</td>\n",
       "    </tr>\n",
       "    <tr>\n",
       "      <th>227993</th>\n",
       "      <td>M470112503</td>\n",
       "      <td>210125110644545</td>\n",
       "      <td>A06</td>\n",
       "      <td>2</td>\n",
       "      <td>20210125</td>\n",
       "      <td>11</td>\n",
       "      <td>51800</td>\n",
       "    </tr>\n",
       "    <tr>\n",
       "      <th>227994</th>\n",
       "      <td>M470112503</td>\n",
       "      <td>210104210652271</td>\n",
       "      <td>A06</td>\n",
       "      <td>2</td>\n",
       "      <td>20210104</td>\n",
       "      <td>21</td>\n",
       "      <td>6440</td>\n",
       "    </tr>\n",
       "    <tr>\n",
       "      <th>227995</th>\n",
       "      <td>M748878049</td>\n",
       "      <td>210119200278240</td>\n",
       "      <td>A02</td>\n",
       "      <td>1</td>\n",
       "      <td>20210119</td>\n",
       "      <td>20</td>\n",
       "      <td>17600</td>\n",
       "    </tr>\n",
       "    <tr>\n",
       "      <th>227996</th>\n",
       "      <td>M748878049</td>\n",
       "      <td>210119180267206</td>\n",
       "      <td>A02</td>\n",
       "      <td>1</td>\n",
       "      <td>20210119</td>\n",
       "      <td>18</td>\n",
       "      <td>12400</td>\n",
       "    </tr>\n",
       "  </tbody>\n",
       "</table>\n",
       "<p>227997 rows × 7 columns</p>\n",
       "</div>"
      ],
      "text/plain": [
       "              cust           rct_no cop_c  chnl_dv     de_dt  de_hr  buy_am\n",
       "0       M629656521  210803210311226   A03        1  20210803     21   10900\n",
       "1       M205142844  210803140275112   A02        1  20210803     14    9000\n",
       "2       M737010483  210803040637594   A06        2  20210803      4   36740\n",
       "3       M707775545  210803140675502   A06        2  20210803     14  138500\n",
       "4       M848083175  210803180197432   A01        1  20210803     18   14000\n",
       "...            ...              ...   ...      ...       ...    ...     ...\n",
       "227992  M470112503  210104210651243   A06        2  20210104     21   50920\n",
       "227993  M470112503  210125110644545   A06        2  20210125     11   51800\n",
       "227994  M470112503  210104210652271   A06        2  20210104     21    6440\n",
       "227995  M748878049  210119200278240   A02        1  20210119     20   17600\n",
       "227996  M748878049  210119180267206   A02        1  20210119     18   12400\n",
       "\n",
       "[227997 rows x 7 columns]"
      ]
     },
     "execution_count": 3,
     "metadata": {},
     "output_type": "execute_result"
    }
   ],
   "source": [
    "cop = Lpay_info['cop_c'].tolist()\n",
    "cust_cop = []\n",
    "\n",
    "for i in range(len(cop)):\n",
    "    if cop[i][0] != 'A':\n",
    "        cust_cop.append(i)\n",
    "\n",
    "Lpay_info.drop(cust_cop, inplace = True, axis = 0)\n",
    "Lpay_info.reset_index(drop = True, inplace=True)\n",
    "Lpay_info"
   ]
  },
  {
   "cell_type": "markdown",
   "metadata": {},
   "source": [
    "* 고객정보와 엘페이 결합"
   ]
  },
  {
   "cell_type": "code",
   "execution_count": 4,
   "metadata": {
    "ExecuteTime": {
     "end_time": "2022-07-28T16:13:44.818029Z",
     "start_time": "2022-07-28T16:13:44.654891Z"
    }
   },
   "outputs": [],
   "source": [
    "Lpay = pd.merge(Lpay_info, cust_demo, on = 'cust', how = 'left')\n",
    "Lpay['Lpay_use'] = 1"
   ]
  },
  {
   "cell_type": "markdown",
   "metadata": {
    "ExecuteTime": {
     "end_time": "2022-07-21T07:21:22.166925Z",
     "start_time": "2022-07-21T07:21:22.154665Z"
    }
   },
   "source": [
    "* 유통사 Lpay 사용: 227997\n",
    "* 유통사 제외 Rows 모두 제거\n",
    "* 다시 병합하고, 전처리 하기"
   ]
  },
  {
   "cell_type": "code",
   "execution_count": 5,
   "metadata": {
    "ExecuteTime": {
     "end_time": "2022-07-28T16:13:44.848027Z",
     "start_time": "2022-07-28T16:13:44.823829Z"
    }
   },
   "outputs": [],
   "source": [
    "Lpay.rename(columns = {'rct_no' : 'Lpay_rct_no'}, inplace = True)"
   ]
  },
  {
   "cell_type": "markdown",
   "metadata": {},
   "source": [
    "## Preprocessing"
   ]
  },
  {
   "cell_type": "markdown",
   "metadata": {},
   "source": [
    "* 유통사 Data 중복 제거\n",
    "* 유통사 + 고객"
   ]
  },
  {
   "cell_type": "code",
   "execution_count": 6,
   "metadata": {
    "ExecuteTime": {
     "end_time": "2022-07-28T16:13:56.240965Z",
     "start_time": "2022-07-28T16:13:44.856101Z"
    }
   },
   "outputs": [],
   "source": [
    "cust_buy = cust_buy.drop_duplicates()\n",
    "cust_buy_demo = pd.merge(cust_buy, cust_demo, on = 'cust', how = 'left')"
   ]
  },
  {
   "cell_type": "markdown",
   "metadata": {},
   "source": [
    "* 4381743 -> 4144389 : 약 20만개 중복 데이터 제거"
   ]
  },
  {
   "cell_type": "markdown",
   "metadata": {},
   "source": [
    "* 유통사 + 고객 + 상품"
   ]
  },
  {
   "cell_type": "code",
   "execution_count": 7,
   "metadata": {
    "ExecuteTime": {
     "end_time": "2022-07-28T16:13:58.835121Z",
     "start_time": "2022-07-28T16:13:56.244824Z"
    }
   },
   "outputs": [],
   "source": [
    "cust_goods = pd.merge(cust_buy_demo, goods_info, on = 'pd_c', how = 'left')"
   ]
  },
  {
   "cell_type": "markdown",
   "metadata": {},
   "source": [
    "* 유통사 + 고객 + 상품 + 점포"
   ]
  },
  {
   "cell_type": "code",
   "execution_count": 8,
   "metadata": {
    "ExecuteTime": {
     "end_time": "2022-07-28T16:14:02.427532Z",
     "start_time": "2022-07-28T16:13:58.841446Z"
    }
   },
   "outputs": [],
   "source": [
    "df_cust = pd.merge(cust_goods, store_info, on = ['br_c', 'cop_c', 'zon_hlv'], how = 'left')"
   ]
  },
  {
   "cell_type": "markdown",
   "metadata": {},
   "source": [
    "* 점포 결측치 -> 0 (온라인)"
   ]
  },
  {
   "cell_type": "code",
   "execution_count": 9,
   "metadata": {
    "ExecuteTime": {
     "end_time": "2022-07-28T16:14:02.775707Z",
     "start_time": "2022-07-28T16:14:02.433522Z"
    }
   },
   "outputs": [],
   "source": [
    "df_cust['br_c'].fillna(0, inplace = True)"
   ]
  },
  {
   "cell_type": "markdown",
   "metadata": {},
   "source": [
    "* 유통사와 엘페이의 병합\n",
    "* 엘페이와 중복되는 값 제거필요\n",
    "* merge -> 엘페이와 유통사의 inner join 없애고, outer로 merge\n",
    "* 하나의 df 완성"
   ]
  },
  {
   "cell_type": "markdown",
   "metadata": {},
   "source": [
    "###  병합"
   ]
  },
  {
   "cell_type": "markdown",
   "metadata": {},
   "source": [
    "#### Inner Merge"
   ]
  },
  {
   "cell_type": "code",
   "execution_count": 10,
   "metadata": {
    "ExecuteTime": {
     "end_time": "2022-07-28T16:14:11.737106Z",
     "start_time": "2022-07-28T16:14:02.778629Z"
    }
   },
   "outputs": [],
   "source": [
    "df1 = pd.merge(Lpay, df_cust, on = ['cust', 'cop_c', 'chnl_dv', 'de_dt', 'de_hr', 'buy_am', 'ma_fem_dv', 'ages', 'zon_hlv'], how = 'inner')\n",
    "df1_idx = df1[df1['Lpay_use'] == 1].index\n",
    "Lpay.drop(df1_idx, inplace = True)\n",
    "Lpay.reset_index(drop = True, inplace=True)"
   ]
  },
  {
   "cell_type": "markdown",
   "metadata": {},
   "source": [
    "#### Outer Merge"
   ]
  },
  {
   "cell_type": "code",
   "execution_count": 11,
   "metadata": {
    "ExecuteTime": {
     "end_time": "2022-07-28T16:14:22.368906Z",
     "start_time": "2022-07-28T16:14:11.743103Z"
    }
   },
   "outputs": [
    {
     "data": {
      "text/html": [
       "<div>\n",
       "<style scoped>\n",
       "    .dataframe tbody tr th:only-of-type {\n",
       "        vertical-align: middle;\n",
       "    }\n",
       "\n",
       "    .dataframe tbody tr th {\n",
       "        vertical-align: top;\n",
       "    }\n",
       "\n",
       "    .dataframe thead th {\n",
       "        text-align: right;\n",
       "    }\n",
       "</style>\n",
       "<table border=\"1\" class=\"dataframe\">\n",
       "  <thead>\n",
       "    <tr style=\"text-align: right;\">\n",
       "      <th></th>\n",
       "      <th>cust</th>\n",
       "      <th>rct_no</th>\n",
       "      <th>chnl_dv</th>\n",
       "      <th>cop_c</th>\n",
       "      <th>br_c</th>\n",
       "      <th>pd_c</th>\n",
       "      <th>de_dt</th>\n",
       "      <th>de_hr</th>\n",
       "      <th>buy_am</th>\n",
       "      <th>buy_ct</th>\n",
       "      <th>ma_fem_dv</th>\n",
       "      <th>ages</th>\n",
       "      <th>zon_hlv</th>\n",
       "      <th>pd_nm</th>\n",
       "      <th>clac_hlv_nm</th>\n",
       "      <th>clac_mcls_nm</th>\n",
       "      <th>zon_mcls</th>\n",
       "      <th>Lpay_rct_no</th>\n",
       "      <th>Lpay_use</th>\n",
       "    </tr>\n",
       "  </thead>\n",
       "  <tbody>\n",
       "    <tr>\n",
       "      <th>0</th>\n",
       "      <td>M430112881</td>\n",
       "      <td>A01000001113</td>\n",
       "      <td>1</td>\n",
       "      <td>A01</td>\n",
       "      <td>A010039</td>\n",
       "      <td>PD0290</td>\n",
       "      <td>20210101</td>\n",
       "      <td>10</td>\n",
       "      <td>15000.0</td>\n",
       "      <td>1.0</td>\n",
       "      <td>여성</td>\n",
       "      <td>50대</td>\n",
       "      <td>Z17</td>\n",
       "      <td>남성티셔츠</td>\n",
       "      <td>남성의류</td>\n",
       "      <td>남성의류상의</td>\n",
       "      <td>NaN</td>\n",
       "      <td>NaN</td>\n",
       "      <td>NaN</td>\n",
       "    </tr>\n",
       "    <tr>\n",
       "      <th>1</th>\n",
       "      <td>M646853852</td>\n",
       "      <td>A01000002265</td>\n",
       "      <td>1</td>\n",
       "      <td>A01</td>\n",
       "      <td>A010025</td>\n",
       "      <td>PD1369</td>\n",
       "      <td>20210101</td>\n",
       "      <td>10</td>\n",
       "      <td>79700.0</td>\n",
       "      <td>1.0</td>\n",
       "      <td>여성</td>\n",
       "      <td>40대</td>\n",
       "      <td>Z13</td>\n",
       "      <td>기타주방일회용품</td>\n",
       "      <td>주방잡화</td>\n",
       "      <td>주방일회용품</td>\n",
       "      <td>Z13001</td>\n",
       "      <td>NaN</td>\n",
       "      <td>NaN</td>\n",
       "    </tr>\n",
       "    <tr>\n",
       "      <th>2</th>\n",
       "      <td>M430112881</td>\n",
       "      <td>A01000003148</td>\n",
       "      <td>1</td>\n",
       "      <td>A01</td>\n",
       "      <td>A010039</td>\n",
       "      <td>PD0290</td>\n",
       "      <td>20210101</td>\n",
       "      <td>10</td>\n",
       "      <td>19000.0</td>\n",
       "      <td>1.0</td>\n",
       "      <td>여성</td>\n",
       "      <td>50대</td>\n",
       "      <td>Z17</td>\n",
       "      <td>남성티셔츠</td>\n",
       "      <td>남성의류</td>\n",
       "      <td>남성의류상의</td>\n",
       "      <td>NaN</td>\n",
       "      <td>NaN</td>\n",
       "      <td>NaN</td>\n",
       "    </tr>\n",
       "    <tr>\n",
       "      <th>3</th>\n",
       "      <td>M430112881</td>\n",
       "      <td>A01000004946</td>\n",
       "      <td>1</td>\n",
       "      <td>A01</td>\n",
       "      <td>A010039</td>\n",
       "      <td>PD0290</td>\n",
       "      <td>20210101</td>\n",
       "      <td>10</td>\n",
       "      <td>19000.0</td>\n",
       "      <td>1.0</td>\n",
       "      <td>여성</td>\n",
       "      <td>50대</td>\n",
       "      <td>Z17</td>\n",
       "      <td>남성티셔츠</td>\n",
       "      <td>남성의류</td>\n",
       "      <td>남성의류상의</td>\n",
       "      <td>NaN</td>\n",
       "      <td>NaN</td>\n",
       "      <td>NaN</td>\n",
       "    </tr>\n",
       "    <tr>\n",
       "      <th>4</th>\n",
       "      <td>M430112881</td>\n",
       "      <td>A01000005297</td>\n",
       "      <td>1</td>\n",
       "      <td>A01</td>\n",
       "      <td>A010039</td>\n",
       "      <td>PD1692</td>\n",
       "      <td>20210101</td>\n",
       "      <td>10</td>\n",
       "      <td>9900.0</td>\n",
       "      <td>1.0</td>\n",
       "      <td>여성</td>\n",
       "      <td>50대</td>\n",
       "      <td>Z17</td>\n",
       "      <td>커피/음료</td>\n",
       "      <td>테넌트/음식점</td>\n",
       "      <td>식당</td>\n",
       "      <td>NaN</td>\n",
       "      <td>NaN</td>\n",
       "      <td>NaN</td>\n",
       "    </tr>\n",
       "    <tr>\n",
       "      <th>...</th>\n",
       "      <td>...</td>\n",
       "      <td>...</td>\n",
       "      <td>...</td>\n",
       "      <td>...</td>\n",
       "      <td>...</td>\n",
       "      <td>...</td>\n",
       "      <td>...</td>\n",
       "      <td>...</td>\n",
       "      <td>...</td>\n",
       "      <td>...</td>\n",
       "      <td>...</td>\n",
       "      <td>...</td>\n",
       "      <td>...</td>\n",
       "      <td>...</td>\n",
       "      <td>...</td>\n",
       "      <td>...</td>\n",
       "      <td>...</td>\n",
       "      <td>...</td>\n",
       "      <td>...</td>\n",
       "    </tr>\n",
       "    <tr>\n",
       "      <th>4304976</th>\n",
       "      <td>M470112503</td>\n",
       "      <td>NaN</td>\n",
       "      <td>2</td>\n",
       "      <td>A06</td>\n",
       "      <td>NaN</td>\n",
       "      <td>NaN</td>\n",
       "      <td>20210104</td>\n",
       "      <td>21</td>\n",
       "      <td>50920.0</td>\n",
       "      <td>NaN</td>\n",
       "      <td>여성</td>\n",
       "      <td>50대</td>\n",
       "      <td>Z16</td>\n",
       "      <td>NaN</td>\n",
       "      <td>NaN</td>\n",
       "      <td>NaN</td>\n",
       "      <td>NaN</td>\n",
       "      <td>2.101042e+14</td>\n",
       "      <td>1.0</td>\n",
       "    </tr>\n",
       "    <tr>\n",
       "      <th>4304977</th>\n",
       "      <td>M470112503</td>\n",
       "      <td>NaN</td>\n",
       "      <td>2</td>\n",
       "      <td>A06</td>\n",
       "      <td>NaN</td>\n",
       "      <td>NaN</td>\n",
       "      <td>20210125</td>\n",
       "      <td>11</td>\n",
       "      <td>51800.0</td>\n",
       "      <td>NaN</td>\n",
       "      <td>여성</td>\n",
       "      <td>50대</td>\n",
       "      <td>Z16</td>\n",
       "      <td>NaN</td>\n",
       "      <td>NaN</td>\n",
       "      <td>NaN</td>\n",
       "      <td>NaN</td>\n",
       "      <td>2.101251e+14</td>\n",
       "      <td>1.0</td>\n",
       "    </tr>\n",
       "    <tr>\n",
       "      <th>4304978</th>\n",
       "      <td>M470112503</td>\n",
       "      <td>NaN</td>\n",
       "      <td>2</td>\n",
       "      <td>A06</td>\n",
       "      <td>NaN</td>\n",
       "      <td>NaN</td>\n",
       "      <td>20210104</td>\n",
       "      <td>21</td>\n",
       "      <td>6440.0</td>\n",
       "      <td>NaN</td>\n",
       "      <td>여성</td>\n",
       "      <td>50대</td>\n",
       "      <td>Z16</td>\n",
       "      <td>NaN</td>\n",
       "      <td>NaN</td>\n",
       "      <td>NaN</td>\n",
       "      <td>NaN</td>\n",
       "      <td>2.101042e+14</td>\n",
       "      <td>1.0</td>\n",
       "    </tr>\n",
       "    <tr>\n",
       "      <th>4304979</th>\n",
       "      <td>M748878049</td>\n",
       "      <td>NaN</td>\n",
       "      <td>1</td>\n",
       "      <td>A02</td>\n",
       "      <td>NaN</td>\n",
       "      <td>NaN</td>\n",
       "      <td>20210119</td>\n",
       "      <td>20</td>\n",
       "      <td>17600.0</td>\n",
       "      <td>NaN</td>\n",
       "      <td>여성</td>\n",
       "      <td>30대</td>\n",
       "      <td>Z10</td>\n",
       "      <td>NaN</td>\n",
       "      <td>NaN</td>\n",
       "      <td>NaN</td>\n",
       "      <td>NaN</td>\n",
       "      <td>2.101192e+14</td>\n",
       "      <td>1.0</td>\n",
       "    </tr>\n",
       "    <tr>\n",
       "      <th>4304980</th>\n",
       "      <td>M748878049</td>\n",
       "      <td>NaN</td>\n",
       "      <td>1</td>\n",
       "      <td>A02</td>\n",
       "      <td>NaN</td>\n",
       "      <td>NaN</td>\n",
       "      <td>20210119</td>\n",
       "      <td>18</td>\n",
       "      <td>12400.0</td>\n",
       "      <td>NaN</td>\n",
       "      <td>여성</td>\n",
       "      <td>30대</td>\n",
       "      <td>Z10</td>\n",
       "      <td>NaN</td>\n",
       "      <td>NaN</td>\n",
       "      <td>NaN</td>\n",
       "      <td>NaN</td>\n",
       "      <td>2.101192e+14</td>\n",
       "      <td>1.0</td>\n",
       "    </tr>\n",
       "  </tbody>\n",
       "</table>\n",
       "<p>4304981 rows × 19 columns</p>\n",
       "</div>"
      ],
      "text/plain": [
       "               cust        rct_no  chnl_dv cop_c     br_c    pd_c     de_dt  \\\n",
       "0        M430112881  A01000001113        1   A01  A010039  PD0290  20210101   \n",
       "1        M646853852  A01000002265        1   A01  A010025  PD1369  20210101   \n",
       "2        M430112881  A01000003148        1   A01  A010039  PD0290  20210101   \n",
       "3        M430112881  A01000004946        1   A01  A010039  PD0290  20210101   \n",
       "4        M430112881  A01000005297        1   A01  A010039  PD1692  20210101   \n",
       "...             ...           ...      ...   ...      ...     ...       ...   \n",
       "4304976  M470112503           NaN        2   A06      NaN     NaN  20210104   \n",
       "4304977  M470112503           NaN        2   A06      NaN     NaN  20210125   \n",
       "4304978  M470112503           NaN        2   A06      NaN     NaN  20210104   \n",
       "4304979  M748878049           NaN        1   A02      NaN     NaN  20210119   \n",
       "4304980  M748878049           NaN        1   A02      NaN     NaN  20210119   \n",
       "\n",
       "         de_hr   buy_am  buy_ct ma_fem_dv ages zon_hlv     pd_nm clac_hlv_nm  \\\n",
       "0           10  15000.0     1.0        여성  50대     Z17     남성티셔츠        남성의류   \n",
       "1           10  79700.0     1.0        여성  40대     Z13  기타주방일회용품        주방잡화   \n",
       "2           10  19000.0     1.0        여성  50대     Z17     남성티셔츠        남성의류   \n",
       "3           10  19000.0     1.0        여성  50대     Z17     남성티셔츠        남성의류   \n",
       "4           10   9900.0     1.0        여성  50대     Z17     커피/음료     테넌트/음식점   \n",
       "...        ...      ...     ...       ...  ...     ...       ...         ...   \n",
       "4304976     21  50920.0     NaN        여성  50대     Z16       NaN         NaN   \n",
       "4304977     11  51800.0     NaN        여성  50대     Z16       NaN         NaN   \n",
       "4304978     21   6440.0     NaN        여성  50대     Z16       NaN         NaN   \n",
       "4304979     20  17600.0     NaN        여성  30대     Z10       NaN         NaN   \n",
       "4304980     18  12400.0     NaN        여성  30대     Z10       NaN         NaN   \n",
       "\n",
       "        clac_mcls_nm zon_mcls   Lpay_rct_no  Lpay_use  \n",
       "0             남성의류상의      NaN           NaN       NaN  \n",
       "1             주방일회용품   Z13001           NaN       NaN  \n",
       "2             남성의류상의      NaN           NaN       NaN  \n",
       "3             남성의류상의      NaN           NaN       NaN  \n",
       "4                 식당      NaN           NaN       NaN  \n",
       "...              ...      ...           ...       ...  \n",
       "4304976          NaN      NaN  2.101042e+14       1.0  \n",
       "4304977          NaN      NaN  2.101251e+14       1.0  \n",
       "4304978          NaN      NaN  2.101042e+14       1.0  \n",
       "4304979          NaN      NaN  2.101192e+14       1.0  \n",
       "4304980          NaN      NaN  2.101192e+14       1.0  \n",
       "\n",
       "[4304981 rows x 19 columns]"
      ]
     },
     "execution_count": 11,
     "metadata": {},
     "output_type": "execute_result"
    }
   ],
   "source": [
    "main_df = pd.merge(df_cust, Lpay, on = ['cust', 'cop_c', 'chnl_dv', 'de_dt', 'de_hr', 'buy_am',\n",
    "       'ma_fem_dv', 'ages', 'zon_hlv'], how = 'outer')\n",
    "main_df"
   ]
  },
  {
   "cell_type": "markdown",
   "metadata": {},
   "source": [
    "### 전처리"
   ]
  },
  {
   "cell_type": "markdown",
   "metadata": {},
   "source": [
    "#### Columns Drop"
   ]
  },
  {
   "cell_type": "code",
   "execution_count": 12,
   "metadata": {
    "ExecuteTime": {
     "end_time": "2022-07-28T16:14:24.499930Z",
     "start_time": "2022-07-28T16:14:22.373936Z"
    }
   },
   "outputs": [
    {
     "data": {
      "text/html": [
       "<div>\n",
       "<style scoped>\n",
       "    .dataframe tbody tr th:only-of-type {\n",
       "        vertical-align: middle;\n",
       "    }\n",
       "\n",
       "    .dataframe tbody tr th {\n",
       "        vertical-align: top;\n",
       "    }\n",
       "\n",
       "    .dataframe thead th {\n",
       "        text-align: right;\n",
       "    }\n",
       "</style>\n",
       "<table border=\"1\" class=\"dataframe\">\n",
       "  <thead>\n",
       "    <tr style=\"text-align: right;\">\n",
       "      <th></th>\n",
       "      <th>cust</th>\n",
       "      <th>rct_no</th>\n",
       "      <th>chnl_dv</th>\n",
       "      <th>cop_c</th>\n",
       "      <th>br_c</th>\n",
       "      <th>pd_c</th>\n",
       "      <th>de_dt</th>\n",
       "      <th>de_hr</th>\n",
       "      <th>buy_am</th>\n",
       "      <th>buy_ct</th>\n",
       "      <th>ma_fem_dv</th>\n",
       "      <th>ages</th>\n",
       "      <th>zon_hlv</th>\n",
       "      <th>clac_hlv_nm</th>\n",
       "      <th>Lpay_use</th>\n",
       "    </tr>\n",
       "  </thead>\n",
       "  <tbody>\n",
       "    <tr>\n",
       "      <th>0</th>\n",
       "      <td>M430112881</td>\n",
       "      <td>A01000001113</td>\n",
       "      <td>1</td>\n",
       "      <td>A01</td>\n",
       "      <td>A010039</td>\n",
       "      <td>PD0290</td>\n",
       "      <td>20210101</td>\n",
       "      <td>10</td>\n",
       "      <td>15000.0</td>\n",
       "      <td>1.0</td>\n",
       "      <td>여성</td>\n",
       "      <td>50대</td>\n",
       "      <td>Z17</td>\n",
       "      <td>남성의류</td>\n",
       "      <td>NaN</td>\n",
       "    </tr>\n",
       "    <tr>\n",
       "      <th>1</th>\n",
       "      <td>M646853852</td>\n",
       "      <td>A01000002265</td>\n",
       "      <td>1</td>\n",
       "      <td>A01</td>\n",
       "      <td>A010025</td>\n",
       "      <td>PD1369</td>\n",
       "      <td>20210101</td>\n",
       "      <td>10</td>\n",
       "      <td>79700.0</td>\n",
       "      <td>1.0</td>\n",
       "      <td>여성</td>\n",
       "      <td>40대</td>\n",
       "      <td>Z13</td>\n",
       "      <td>주방잡화</td>\n",
       "      <td>NaN</td>\n",
       "    </tr>\n",
       "    <tr>\n",
       "      <th>2</th>\n",
       "      <td>M430112881</td>\n",
       "      <td>A01000003148</td>\n",
       "      <td>1</td>\n",
       "      <td>A01</td>\n",
       "      <td>A010039</td>\n",
       "      <td>PD0290</td>\n",
       "      <td>20210101</td>\n",
       "      <td>10</td>\n",
       "      <td>19000.0</td>\n",
       "      <td>1.0</td>\n",
       "      <td>여성</td>\n",
       "      <td>50대</td>\n",
       "      <td>Z17</td>\n",
       "      <td>남성의류</td>\n",
       "      <td>NaN</td>\n",
       "    </tr>\n",
       "    <tr>\n",
       "      <th>3</th>\n",
       "      <td>M430112881</td>\n",
       "      <td>A01000004946</td>\n",
       "      <td>1</td>\n",
       "      <td>A01</td>\n",
       "      <td>A010039</td>\n",
       "      <td>PD0290</td>\n",
       "      <td>20210101</td>\n",
       "      <td>10</td>\n",
       "      <td>19000.0</td>\n",
       "      <td>1.0</td>\n",
       "      <td>여성</td>\n",
       "      <td>50대</td>\n",
       "      <td>Z17</td>\n",
       "      <td>남성의류</td>\n",
       "      <td>NaN</td>\n",
       "    </tr>\n",
       "    <tr>\n",
       "      <th>4</th>\n",
       "      <td>M430112881</td>\n",
       "      <td>A01000005297</td>\n",
       "      <td>1</td>\n",
       "      <td>A01</td>\n",
       "      <td>A010039</td>\n",
       "      <td>PD1692</td>\n",
       "      <td>20210101</td>\n",
       "      <td>10</td>\n",
       "      <td>9900.0</td>\n",
       "      <td>1.0</td>\n",
       "      <td>여성</td>\n",
       "      <td>50대</td>\n",
       "      <td>Z17</td>\n",
       "      <td>테넌트/음식점</td>\n",
       "      <td>NaN</td>\n",
       "    </tr>\n",
       "    <tr>\n",
       "      <th>...</th>\n",
       "      <td>...</td>\n",
       "      <td>...</td>\n",
       "      <td>...</td>\n",
       "      <td>...</td>\n",
       "      <td>...</td>\n",
       "      <td>...</td>\n",
       "      <td>...</td>\n",
       "      <td>...</td>\n",
       "      <td>...</td>\n",
       "      <td>...</td>\n",
       "      <td>...</td>\n",
       "      <td>...</td>\n",
       "      <td>...</td>\n",
       "      <td>...</td>\n",
       "      <td>...</td>\n",
       "    </tr>\n",
       "    <tr>\n",
       "      <th>4304976</th>\n",
       "      <td>M470112503</td>\n",
       "      <td>NaN</td>\n",
       "      <td>2</td>\n",
       "      <td>A06</td>\n",
       "      <td>NaN</td>\n",
       "      <td>NaN</td>\n",
       "      <td>20210104</td>\n",
       "      <td>21</td>\n",
       "      <td>50920.0</td>\n",
       "      <td>NaN</td>\n",
       "      <td>여성</td>\n",
       "      <td>50대</td>\n",
       "      <td>Z16</td>\n",
       "      <td>NaN</td>\n",
       "      <td>1.0</td>\n",
       "    </tr>\n",
       "    <tr>\n",
       "      <th>4304977</th>\n",
       "      <td>M470112503</td>\n",
       "      <td>NaN</td>\n",
       "      <td>2</td>\n",
       "      <td>A06</td>\n",
       "      <td>NaN</td>\n",
       "      <td>NaN</td>\n",
       "      <td>20210125</td>\n",
       "      <td>11</td>\n",
       "      <td>51800.0</td>\n",
       "      <td>NaN</td>\n",
       "      <td>여성</td>\n",
       "      <td>50대</td>\n",
       "      <td>Z16</td>\n",
       "      <td>NaN</td>\n",
       "      <td>1.0</td>\n",
       "    </tr>\n",
       "    <tr>\n",
       "      <th>4304978</th>\n",
       "      <td>M470112503</td>\n",
       "      <td>NaN</td>\n",
       "      <td>2</td>\n",
       "      <td>A06</td>\n",
       "      <td>NaN</td>\n",
       "      <td>NaN</td>\n",
       "      <td>20210104</td>\n",
       "      <td>21</td>\n",
       "      <td>6440.0</td>\n",
       "      <td>NaN</td>\n",
       "      <td>여성</td>\n",
       "      <td>50대</td>\n",
       "      <td>Z16</td>\n",
       "      <td>NaN</td>\n",
       "      <td>1.0</td>\n",
       "    </tr>\n",
       "    <tr>\n",
       "      <th>4304979</th>\n",
       "      <td>M748878049</td>\n",
       "      <td>NaN</td>\n",
       "      <td>1</td>\n",
       "      <td>A02</td>\n",
       "      <td>NaN</td>\n",
       "      <td>NaN</td>\n",
       "      <td>20210119</td>\n",
       "      <td>20</td>\n",
       "      <td>17600.0</td>\n",
       "      <td>NaN</td>\n",
       "      <td>여성</td>\n",
       "      <td>30대</td>\n",
       "      <td>Z10</td>\n",
       "      <td>NaN</td>\n",
       "      <td>1.0</td>\n",
       "    </tr>\n",
       "    <tr>\n",
       "      <th>4304980</th>\n",
       "      <td>M748878049</td>\n",
       "      <td>NaN</td>\n",
       "      <td>1</td>\n",
       "      <td>A02</td>\n",
       "      <td>NaN</td>\n",
       "      <td>NaN</td>\n",
       "      <td>20210119</td>\n",
       "      <td>18</td>\n",
       "      <td>12400.0</td>\n",
       "      <td>NaN</td>\n",
       "      <td>여성</td>\n",
       "      <td>30대</td>\n",
       "      <td>Z10</td>\n",
       "      <td>NaN</td>\n",
       "      <td>1.0</td>\n",
       "    </tr>\n",
       "  </tbody>\n",
       "</table>\n",
       "<p>4304981 rows × 15 columns</p>\n",
       "</div>"
      ],
      "text/plain": [
       "               cust        rct_no  chnl_dv cop_c     br_c    pd_c     de_dt  \\\n",
       "0        M430112881  A01000001113        1   A01  A010039  PD0290  20210101   \n",
       "1        M646853852  A01000002265        1   A01  A010025  PD1369  20210101   \n",
       "2        M430112881  A01000003148        1   A01  A010039  PD0290  20210101   \n",
       "3        M430112881  A01000004946        1   A01  A010039  PD0290  20210101   \n",
       "4        M430112881  A01000005297        1   A01  A010039  PD1692  20210101   \n",
       "...             ...           ...      ...   ...      ...     ...       ...   \n",
       "4304976  M470112503           NaN        2   A06      NaN     NaN  20210104   \n",
       "4304977  M470112503           NaN        2   A06      NaN     NaN  20210125   \n",
       "4304978  M470112503           NaN        2   A06      NaN     NaN  20210104   \n",
       "4304979  M748878049           NaN        1   A02      NaN     NaN  20210119   \n",
       "4304980  M748878049           NaN        1   A02      NaN     NaN  20210119   \n",
       "\n",
       "         de_hr   buy_am  buy_ct ma_fem_dv ages zon_hlv clac_hlv_nm  Lpay_use  \n",
       "0           10  15000.0     1.0        여성  50대     Z17        남성의류       NaN  \n",
       "1           10  79700.0     1.0        여성  40대     Z13        주방잡화       NaN  \n",
       "2           10  19000.0     1.0        여성  50대     Z17        남성의류       NaN  \n",
       "3           10  19000.0     1.0        여성  50대     Z17        남성의류       NaN  \n",
       "4           10   9900.0     1.0        여성  50대     Z17     테넌트/음식점       NaN  \n",
       "...        ...      ...     ...       ...  ...     ...         ...       ...  \n",
       "4304976     21  50920.0     NaN        여성  50대     Z16         NaN       1.0  \n",
       "4304977     11  51800.0     NaN        여성  50대     Z16         NaN       1.0  \n",
       "4304978     21   6440.0     NaN        여성  50대     Z16         NaN       1.0  \n",
       "4304979     20  17600.0     NaN        여성  30대     Z10         NaN       1.0  \n",
       "4304980     18  12400.0     NaN        여성  30대     Z10         NaN       1.0  \n",
       "\n",
       "[4304981 rows x 15 columns]"
      ]
     },
     "execution_count": 12,
     "metadata": {},
     "output_type": "execute_result"
    }
   ],
   "source": [
    "main_df.drop(['Lpay_rct_no', 'pd_nm', 'clac_mcls_nm', 'zon_mcls'], axis = 1, inplace = True)\n",
    "main_df"
   ]
  },
  {
   "cell_type": "markdown",
   "metadata": {},
   "source": [
    "* 결측치 있는 값 행 제거"
   ]
  },
  {
   "cell_type": "code",
   "execution_count": 13,
   "metadata": {
    "ExecuteTime": {
     "end_time": "2022-07-28T16:14:24.653182Z",
     "start_time": "2022-07-28T16:14:24.504078Z"
    }
   },
   "outputs": [],
   "source": [
    "main_df['Lpay_use'].fillna(0, inplace = True)\n",
    "main_df['Lpay_use'] = main_df['Lpay_use'].astype(int)"
   ]
  },
  {
   "cell_type": "code",
   "execution_count": 14,
   "metadata": {
    "ExecuteTime": {
     "end_time": "2022-07-28T16:14:30.150259Z",
     "start_time": "2022-07-28T16:14:24.657723Z"
    }
   },
   "outputs": [
    {
     "data": {
      "text/html": [
       "<div>\n",
       "<style scoped>\n",
       "    .dataframe tbody tr th:only-of-type {\n",
       "        vertical-align: middle;\n",
       "    }\n",
       "\n",
       "    .dataframe tbody tr th {\n",
       "        vertical-align: top;\n",
       "    }\n",
       "\n",
       "    .dataframe thead th {\n",
       "        text-align: right;\n",
       "    }\n",
       "</style>\n",
       "<table border=\"1\" class=\"dataframe\">\n",
       "  <thead>\n",
       "    <tr style=\"text-align: right;\">\n",
       "      <th></th>\n",
       "      <th>cust</th>\n",
       "      <th>rct_no</th>\n",
       "      <th>chnl_dv</th>\n",
       "      <th>cop_c</th>\n",
       "      <th>br_c</th>\n",
       "      <th>pd_c</th>\n",
       "      <th>de_dt</th>\n",
       "      <th>de_hr</th>\n",
       "      <th>buy_am</th>\n",
       "      <th>buy_ct</th>\n",
       "      <th>ma_fem_dv</th>\n",
       "      <th>ages</th>\n",
       "      <th>zon_hlv</th>\n",
       "      <th>clac_hlv_nm</th>\n",
       "      <th>Lpay_use</th>\n",
       "    </tr>\n",
       "  </thead>\n",
       "  <tbody>\n",
       "    <tr>\n",
       "      <th>0</th>\n",
       "      <td>M430112881</td>\n",
       "      <td>A01000001113</td>\n",
       "      <td>1</td>\n",
       "      <td>A01</td>\n",
       "      <td>A010039</td>\n",
       "      <td>PD0290</td>\n",
       "      <td>20210101</td>\n",
       "      <td>10</td>\n",
       "      <td>15000.0</td>\n",
       "      <td>1.0</td>\n",
       "      <td>여성</td>\n",
       "      <td>50대</td>\n",
       "      <td>Z17</td>\n",
       "      <td>남성의류</td>\n",
       "      <td>0</td>\n",
       "    </tr>\n",
       "    <tr>\n",
       "      <th>1</th>\n",
       "      <td>M646853852</td>\n",
       "      <td>A01000002265</td>\n",
       "      <td>1</td>\n",
       "      <td>A01</td>\n",
       "      <td>A010025</td>\n",
       "      <td>PD1369</td>\n",
       "      <td>20210101</td>\n",
       "      <td>10</td>\n",
       "      <td>79700.0</td>\n",
       "      <td>1.0</td>\n",
       "      <td>여성</td>\n",
       "      <td>40대</td>\n",
       "      <td>Z13</td>\n",
       "      <td>주방잡화</td>\n",
       "      <td>0</td>\n",
       "    </tr>\n",
       "    <tr>\n",
       "      <th>2</th>\n",
       "      <td>M430112881</td>\n",
       "      <td>A01000003148</td>\n",
       "      <td>1</td>\n",
       "      <td>A01</td>\n",
       "      <td>A010039</td>\n",
       "      <td>PD0290</td>\n",
       "      <td>20210101</td>\n",
       "      <td>10</td>\n",
       "      <td>19000.0</td>\n",
       "      <td>1.0</td>\n",
       "      <td>여성</td>\n",
       "      <td>50대</td>\n",
       "      <td>Z17</td>\n",
       "      <td>남성의류</td>\n",
       "      <td>0</td>\n",
       "    </tr>\n",
       "    <tr>\n",
       "      <th>3</th>\n",
       "      <td>M430112881</td>\n",
       "      <td>A01000004946</td>\n",
       "      <td>1</td>\n",
       "      <td>A01</td>\n",
       "      <td>A010039</td>\n",
       "      <td>PD0290</td>\n",
       "      <td>20210101</td>\n",
       "      <td>10</td>\n",
       "      <td>19000.0</td>\n",
       "      <td>1.0</td>\n",
       "      <td>여성</td>\n",
       "      <td>50대</td>\n",
       "      <td>Z17</td>\n",
       "      <td>남성의류</td>\n",
       "      <td>0</td>\n",
       "    </tr>\n",
       "    <tr>\n",
       "      <th>4</th>\n",
       "      <td>M430112881</td>\n",
       "      <td>A01000005297</td>\n",
       "      <td>1</td>\n",
       "      <td>A01</td>\n",
       "      <td>A010039</td>\n",
       "      <td>PD1692</td>\n",
       "      <td>20210101</td>\n",
       "      <td>10</td>\n",
       "      <td>9900.0</td>\n",
       "      <td>1.0</td>\n",
       "      <td>여성</td>\n",
       "      <td>50대</td>\n",
       "      <td>Z17</td>\n",
       "      <td>테넌트/음식점</td>\n",
       "      <td>0</td>\n",
       "    </tr>\n",
       "    <tr>\n",
       "      <th>...</th>\n",
       "      <td>...</td>\n",
       "      <td>...</td>\n",
       "      <td>...</td>\n",
       "      <td>...</td>\n",
       "      <td>...</td>\n",
       "      <td>...</td>\n",
       "      <td>...</td>\n",
       "      <td>...</td>\n",
       "      <td>...</td>\n",
       "      <td>...</td>\n",
       "      <td>...</td>\n",
       "      <td>...</td>\n",
       "      <td>...</td>\n",
       "      <td>...</td>\n",
       "      <td>...</td>\n",
       "    </tr>\n",
       "    <tr>\n",
       "      <th>4145048</th>\n",
       "      <td>M816318679</td>\n",
       "      <td>E06052115831</td>\n",
       "      <td>2</td>\n",
       "      <td>A06</td>\n",
       "      <td>0</td>\n",
       "      <td>PD0507</td>\n",
       "      <td>20211231</td>\n",
       "      <td>22</td>\n",
       "      <td>50000.0</td>\n",
       "      <td>1.0</td>\n",
       "      <td>여성</td>\n",
       "      <td>40대</td>\n",
       "      <td>Z17</td>\n",
       "      <td>상품권</td>\n",
       "      <td>0</td>\n",
       "    </tr>\n",
       "    <tr>\n",
       "      <th>4145049</th>\n",
       "      <td>M816318679</td>\n",
       "      <td>E06052116037</td>\n",
       "      <td>2</td>\n",
       "      <td>A06</td>\n",
       "      <td>0</td>\n",
       "      <td>PD0507</td>\n",
       "      <td>20211231</td>\n",
       "      <td>22</td>\n",
       "      <td>10000.0</td>\n",
       "      <td>1.0</td>\n",
       "      <td>여성</td>\n",
       "      <td>40대</td>\n",
       "      <td>Z17</td>\n",
       "      <td>상품권</td>\n",
       "      <td>0</td>\n",
       "    </tr>\n",
       "    <tr>\n",
       "      <th>4145050</th>\n",
       "      <td>M182645944</td>\n",
       "      <td>E06052117103</td>\n",
       "      <td>2</td>\n",
       "      <td>A06</td>\n",
       "      <td>0</td>\n",
       "      <td>PD0294</td>\n",
       "      <td>20211231</td>\n",
       "      <td>23</td>\n",
       "      <td>289000.0</td>\n",
       "      <td>1.0</td>\n",
       "      <td>남성</td>\n",
       "      <td>20대</td>\n",
       "      <td>Z17</td>\n",
       "      <td>남성의류</td>\n",
       "      <td>0</td>\n",
       "    </tr>\n",
       "    <tr>\n",
       "      <th>4145051</th>\n",
       "      <td>M533286446</td>\n",
       "      <td>E06052118403</td>\n",
       "      <td>2</td>\n",
       "      <td>A06</td>\n",
       "      <td>0</td>\n",
       "      <td>PD0507</td>\n",
       "      <td>20211231</td>\n",
       "      <td>23</td>\n",
       "      <td>200000.0</td>\n",
       "      <td>1.0</td>\n",
       "      <td>남성</td>\n",
       "      <td>40대</td>\n",
       "      <td>Z10</td>\n",
       "      <td>상품권</td>\n",
       "      <td>0</td>\n",
       "    </tr>\n",
       "    <tr>\n",
       "      <th>4145052</th>\n",
       "      <td>M533286446</td>\n",
       "      <td>E06052119978</td>\n",
       "      <td>2</td>\n",
       "      <td>A06</td>\n",
       "      <td>0</td>\n",
       "      <td>PD0507</td>\n",
       "      <td>20211231</td>\n",
       "      <td>23</td>\n",
       "      <td>50000.0</td>\n",
       "      <td>1.0</td>\n",
       "      <td>남성</td>\n",
       "      <td>40대</td>\n",
       "      <td>Z10</td>\n",
       "      <td>상품권</td>\n",
       "      <td>0</td>\n",
       "    </tr>\n",
       "  </tbody>\n",
       "</table>\n",
       "<p>4145053 rows × 15 columns</p>\n",
       "</div>"
      ],
      "text/plain": [
       "               cust        rct_no  chnl_dv cop_c     br_c    pd_c     de_dt  \\\n",
       "0        M430112881  A01000001113        1   A01  A010039  PD0290  20210101   \n",
       "1        M646853852  A01000002265        1   A01  A010025  PD1369  20210101   \n",
       "2        M430112881  A01000003148        1   A01  A010039  PD0290  20210101   \n",
       "3        M430112881  A01000004946        1   A01  A010039  PD0290  20210101   \n",
       "4        M430112881  A01000005297        1   A01  A010039  PD1692  20210101   \n",
       "...             ...           ...      ...   ...      ...     ...       ...   \n",
       "4145048  M816318679  E06052115831        2   A06        0  PD0507  20211231   \n",
       "4145049  M816318679  E06052116037        2   A06        0  PD0507  20211231   \n",
       "4145050  M182645944  E06052117103        2   A06        0  PD0294  20211231   \n",
       "4145051  M533286446  E06052118403        2   A06        0  PD0507  20211231   \n",
       "4145052  M533286446  E06052119978        2   A06        0  PD0507  20211231   \n",
       "\n",
       "         de_hr    buy_am  buy_ct ma_fem_dv ages zon_hlv clac_hlv_nm  Lpay_use  \n",
       "0           10   15000.0     1.0        여성  50대     Z17        남성의류         0  \n",
       "1           10   79700.0     1.0        여성  40대     Z13        주방잡화         0  \n",
       "2           10   19000.0     1.0        여성  50대     Z17        남성의류         0  \n",
       "3           10   19000.0     1.0        여성  50대     Z17        남성의류         0  \n",
       "4           10    9900.0     1.0        여성  50대     Z17     테넌트/음식점         0  \n",
       "...        ...       ...     ...       ...  ...     ...         ...       ...  \n",
       "4145048     22   50000.0     1.0        여성  40대     Z17         상품권         0  \n",
       "4145049     22   10000.0     1.0        여성  40대     Z17         상품권         0  \n",
       "4145050     23  289000.0     1.0        남성  20대     Z17        남성의류         0  \n",
       "4145051     23  200000.0     1.0        남성  40대     Z10         상품권         0  \n",
       "4145052     23   50000.0     1.0        남성  40대     Z10         상품권         0  \n",
       "\n",
       "[4145053 rows x 15 columns]"
      ]
     },
     "execution_count": 14,
     "metadata": {},
     "output_type": "execute_result"
    }
   ],
   "source": [
    "main_df = main_df.dropna(axis = 0)\n",
    "main_df.reset_index(drop=True, inplace=True)\n",
    "main_df"
   ]
  },
  {
   "cell_type": "code",
   "execution_count": 15,
   "metadata": {
    "ExecuteTime": {
     "end_time": "2022-07-28T16:14:33.416366Z",
     "start_time": "2022-07-28T16:14:30.154212Z"
    }
   },
   "outputs": [
    {
     "data": {
      "text/plain": [
       "Lpay_use       0\n",
       "clac_hlv_nm    0\n",
       "zon_hlv        0\n",
       "ages           0\n",
       "ma_fem_dv      0\n",
       "buy_ct         0\n",
       "buy_am         0\n",
       "de_hr          0\n",
       "de_dt          0\n",
       "pd_c           0\n",
       "br_c           0\n",
       "cop_c          0\n",
       "chnl_dv        0\n",
       "rct_no         0\n",
       "cust           0\n",
       "dtype: int64"
      ]
     },
     "execution_count": 15,
     "metadata": {},
     "output_type": "execute_result"
    }
   ],
   "source": [
    "main_df.isnull().sum().sort_values(ascending = False)"
   ]
  },
  {
   "cell_type": "markdown",
   "metadata": {},
   "source": [
    "---------------------------------------------------------------------------------------결측치 제거 완료 ---------------------------------------------------------------------------------"
   ]
  },
  {
   "cell_type": "markdown",
   "metadata": {},
   "source": [
    "* 영수증 중복 처리 -> O\n",
    "* 전체 컬럼 전처리 -> \n",
    "* 샘플링\n",
    "* Modeling\n",
    "\n",
    "-- df -> csv 저장 --"
   ]
  },
  {
   "cell_type": "markdown",
   "metadata": {},
   "source": [
    "#### 중복처리"
   ]
  },
  {
   "cell_type": "code",
   "execution_count": 16,
   "metadata": {
    "ExecuteTime": {
     "end_time": "2022-07-28T16:14:35.085771Z",
     "start_time": "2022-07-28T16:14:33.420907Z"
    }
   },
   "outputs": [],
   "source": [
    "main_df = main_df.drop_duplicates(['rct_no'], keep = 'first')\n",
    "main_df[main_df['Lpay_use'] == 1]\n",
    "main_df.reset_index(drop = True, inplace = True)"
   ]
  },
  {
   "cell_type": "code",
   "execution_count": 17,
   "metadata": {
    "ExecuteTime": {
     "end_time": "2022-07-28T16:14:35.176391Z",
     "start_time": "2022-07-28T16:14:35.090405Z"
    }
   },
   "outputs": [
    {
     "data": {
      "text/html": [
       "<div>\n",
       "<style scoped>\n",
       "    .dataframe tbody tr th:only-of-type {\n",
       "        vertical-align: middle;\n",
       "    }\n",
       "\n",
       "    .dataframe tbody tr th {\n",
       "        vertical-align: top;\n",
       "    }\n",
       "\n",
       "    .dataframe thead th {\n",
       "        text-align: right;\n",
       "    }\n",
       "</style>\n",
       "<table border=\"1\" class=\"dataframe\">\n",
       "  <thead>\n",
       "    <tr style=\"text-align: right;\">\n",
       "      <th></th>\n",
       "      <th>cust</th>\n",
       "      <th>rct_no</th>\n",
       "      <th>chnl_dv</th>\n",
       "      <th>cop_c</th>\n",
       "      <th>br_c</th>\n",
       "      <th>pd_c</th>\n",
       "      <th>de_dt</th>\n",
       "      <th>de_hr</th>\n",
       "      <th>buy_am</th>\n",
       "      <th>buy_ct</th>\n",
       "      <th>ma_fem_dv</th>\n",
       "      <th>ages</th>\n",
       "      <th>zon_hlv</th>\n",
       "      <th>clac_hlv_nm</th>\n",
       "      <th>Lpay_use</th>\n",
       "    </tr>\n",
       "  </thead>\n",
       "  <tbody>\n",
       "    <tr>\n",
       "      <th>0</th>\n",
       "      <td>M430112881</td>\n",
       "      <td>A01000001113</td>\n",
       "      <td>1</td>\n",
       "      <td>A01</td>\n",
       "      <td>A010039</td>\n",
       "      <td>PD0290</td>\n",
       "      <td>20210101</td>\n",
       "      <td>10</td>\n",
       "      <td>15000.0</td>\n",
       "      <td>1.0</td>\n",
       "      <td>여성</td>\n",
       "      <td>50대</td>\n",
       "      <td>Z17</td>\n",
       "      <td>남성의류</td>\n",
       "      <td>0</td>\n",
       "    </tr>\n",
       "    <tr>\n",
       "      <th>1</th>\n",
       "      <td>M646853852</td>\n",
       "      <td>A01000002265</td>\n",
       "      <td>1</td>\n",
       "      <td>A01</td>\n",
       "      <td>A010025</td>\n",
       "      <td>PD1369</td>\n",
       "      <td>20210101</td>\n",
       "      <td>10</td>\n",
       "      <td>79700.0</td>\n",
       "      <td>1.0</td>\n",
       "      <td>여성</td>\n",
       "      <td>40대</td>\n",
       "      <td>Z13</td>\n",
       "      <td>주방잡화</td>\n",
       "      <td>0</td>\n",
       "    </tr>\n",
       "    <tr>\n",
       "      <th>2</th>\n",
       "      <td>M430112881</td>\n",
       "      <td>A01000003148</td>\n",
       "      <td>1</td>\n",
       "      <td>A01</td>\n",
       "      <td>A010039</td>\n",
       "      <td>PD0290</td>\n",
       "      <td>20210101</td>\n",
       "      <td>10</td>\n",
       "      <td>19000.0</td>\n",
       "      <td>1.0</td>\n",
       "      <td>여성</td>\n",
       "      <td>50대</td>\n",
       "      <td>Z17</td>\n",
       "      <td>남성의류</td>\n",
       "      <td>0</td>\n",
       "    </tr>\n",
       "    <tr>\n",
       "      <th>3</th>\n",
       "      <td>M430112881</td>\n",
       "      <td>A01000004946</td>\n",
       "      <td>1</td>\n",
       "      <td>A01</td>\n",
       "      <td>A010039</td>\n",
       "      <td>PD0290</td>\n",
       "      <td>20210101</td>\n",
       "      <td>10</td>\n",
       "      <td>19000.0</td>\n",
       "      <td>1.0</td>\n",
       "      <td>여성</td>\n",
       "      <td>50대</td>\n",
       "      <td>Z17</td>\n",
       "      <td>남성의류</td>\n",
       "      <td>0</td>\n",
       "    </tr>\n",
       "    <tr>\n",
       "      <th>4</th>\n",
       "      <td>M430112881</td>\n",
       "      <td>A01000005297</td>\n",
       "      <td>1</td>\n",
       "      <td>A01</td>\n",
       "      <td>A010039</td>\n",
       "      <td>PD1692</td>\n",
       "      <td>20210101</td>\n",
       "      <td>10</td>\n",
       "      <td>9900.0</td>\n",
       "      <td>1.0</td>\n",
       "      <td>여성</td>\n",
       "      <td>50대</td>\n",
       "      <td>Z17</td>\n",
       "      <td>테넌트/음식점</td>\n",
       "      <td>0</td>\n",
       "    </tr>\n",
       "    <tr>\n",
       "      <th>...</th>\n",
       "      <td>...</td>\n",
       "      <td>...</td>\n",
       "      <td>...</td>\n",
       "      <td>...</td>\n",
       "      <td>...</td>\n",
       "      <td>...</td>\n",
       "      <td>...</td>\n",
       "      <td>...</td>\n",
       "      <td>...</td>\n",
       "      <td>...</td>\n",
       "      <td>...</td>\n",
       "      <td>...</td>\n",
       "      <td>...</td>\n",
       "      <td>...</td>\n",
       "      <td>...</td>\n",
       "    </tr>\n",
       "    <tr>\n",
       "      <th>1266584</th>\n",
       "      <td>M816318679</td>\n",
       "      <td>E06052115831</td>\n",
       "      <td>2</td>\n",
       "      <td>A06</td>\n",
       "      <td>0</td>\n",
       "      <td>PD0507</td>\n",
       "      <td>20211231</td>\n",
       "      <td>22</td>\n",
       "      <td>50000.0</td>\n",
       "      <td>1.0</td>\n",
       "      <td>여성</td>\n",
       "      <td>40대</td>\n",
       "      <td>Z17</td>\n",
       "      <td>상품권</td>\n",
       "      <td>0</td>\n",
       "    </tr>\n",
       "    <tr>\n",
       "      <th>1266585</th>\n",
       "      <td>M816318679</td>\n",
       "      <td>E06052116037</td>\n",
       "      <td>2</td>\n",
       "      <td>A06</td>\n",
       "      <td>0</td>\n",
       "      <td>PD0507</td>\n",
       "      <td>20211231</td>\n",
       "      <td>22</td>\n",
       "      <td>10000.0</td>\n",
       "      <td>1.0</td>\n",
       "      <td>여성</td>\n",
       "      <td>40대</td>\n",
       "      <td>Z17</td>\n",
       "      <td>상품권</td>\n",
       "      <td>0</td>\n",
       "    </tr>\n",
       "    <tr>\n",
       "      <th>1266586</th>\n",
       "      <td>M182645944</td>\n",
       "      <td>E06052117103</td>\n",
       "      <td>2</td>\n",
       "      <td>A06</td>\n",
       "      <td>0</td>\n",
       "      <td>PD0294</td>\n",
       "      <td>20211231</td>\n",
       "      <td>23</td>\n",
       "      <td>289000.0</td>\n",
       "      <td>1.0</td>\n",
       "      <td>남성</td>\n",
       "      <td>20대</td>\n",
       "      <td>Z17</td>\n",
       "      <td>남성의류</td>\n",
       "      <td>0</td>\n",
       "    </tr>\n",
       "    <tr>\n",
       "      <th>1266587</th>\n",
       "      <td>M533286446</td>\n",
       "      <td>E06052118403</td>\n",
       "      <td>2</td>\n",
       "      <td>A06</td>\n",
       "      <td>0</td>\n",
       "      <td>PD0507</td>\n",
       "      <td>20211231</td>\n",
       "      <td>23</td>\n",
       "      <td>200000.0</td>\n",
       "      <td>1.0</td>\n",
       "      <td>남성</td>\n",
       "      <td>40대</td>\n",
       "      <td>Z10</td>\n",
       "      <td>상품권</td>\n",
       "      <td>0</td>\n",
       "    </tr>\n",
       "    <tr>\n",
       "      <th>1266588</th>\n",
       "      <td>M533286446</td>\n",
       "      <td>E06052119978</td>\n",
       "      <td>2</td>\n",
       "      <td>A06</td>\n",
       "      <td>0</td>\n",
       "      <td>PD0507</td>\n",
       "      <td>20211231</td>\n",
       "      <td>23</td>\n",
       "      <td>50000.0</td>\n",
       "      <td>1.0</td>\n",
       "      <td>남성</td>\n",
       "      <td>40대</td>\n",
       "      <td>Z10</td>\n",
       "      <td>상품권</td>\n",
       "      <td>0</td>\n",
       "    </tr>\n",
       "  </tbody>\n",
       "</table>\n",
       "<p>1266589 rows × 15 columns</p>\n",
       "</div>"
      ],
      "text/plain": [
       "               cust        rct_no  chnl_dv cop_c     br_c    pd_c     de_dt  \\\n",
       "0        M430112881  A01000001113        1   A01  A010039  PD0290  20210101   \n",
       "1        M646853852  A01000002265        1   A01  A010025  PD1369  20210101   \n",
       "2        M430112881  A01000003148        1   A01  A010039  PD0290  20210101   \n",
       "3        M430112881  A01000004946        1   A01  A010039  PD0290  20210101   \n",
       "4        M430112881  A01000005297        1   A01  A010039  PD1692  20210101   \n",
       "...             ...           ...      ...   ...      ...     ...       ...   \n",
       "1266584  M816318679  E06052115831        2   A06        0  PD0507  20211231   \n",
       "1266585  M816318679  E06052116037        2   A06        0  PD0507  20211231   \n",
       "1266586  M182645944  E06052117103        2   A06        0  PD0294  20211231   \n",
       "1266587  M533286446  E06052118403        2   A06        0  PD0507  20211231   \n",
       "1266588  M533286446  E06052119978        2   A06        0  PD0507  20211231   \n",
       "\n",
       "         de_hr    buy_am  buy_ct ma_fem_dv ages zon_hlv clac_hlv_nm  Lpay_use  \n",
       "0           10   15000.0     1.0        여성  50대     Z17        남성의류         0  \n",
       "1           10   79700.0     1.0        여성  40대     Z13        주방잡화         0  \n",
       "2           10   19000.0     1.0        여성  50대     Z17        남성의류         0  \n",
       "3           10   19000.0     1.0        여성  50대     Z17        남성의류         0  \n",
       "4           10    9900.0     1.0        여성  50대     Z17     테넌트/음식점         0  \n",
       "...        ...       ...     ...       ...  ...     ...         ...       ...  \n",
       "1266584     22   50000.0     1.0        여성  40대     Z17         상품권         0  \n",
       "1266585     22   10000.0     1.0        여성  40대     Z17         상품권         0  \n",
       "1266586     23  289000.0     1.0        남성  20대     Z17        남성의류         0  \n",
       "1266587     23  200000.0     1.0        남성  40대     Z10         상품권         0  \n",
       "1266588     23   50000.0     1.0        남성  40대     Z10         상품권         0  \n",
       "\n",
       "[1266589 rows x 15 columns]"
      ]
     },
     "execution_count": 17,
     "metadata": {},
     "output_type": "execute_result"
    }
   ],
   "source": [
    "main_df"
   ]
  },
  {
   "cell_type": "markdown",
   "metadata": {},
   "source": [
    "* 300만개 -> 120만개"
   ]
  },
  {
   "cell_type": "markdown",
   "metadata": {},
   "source": [
    "#### Feature Engineering"
   ]
  },
  {
   "cell_type": "markdown",
   "metadata": {},
   "source": [
    "##### columns drop"
   ]
  },
  {
   "cell_type": "code",
   "execution_count": 18,
   "metadata": {
    "ExecuteTime": {
     "end_time": "2022-07-28T16:14:35.464942Z",
     "start_time": "2022-07-28T16:14:35.182090Z"
    }
   },
   "outputs": [
    {
     "name": "stderr",
     "output_type": "stream",
     "text": [
      "C:\\Users\\legg0\\anaconda3\\lib\\site-packages\\pandas\\core\\frame.py:4163: SettingWithCopyWarning: \n",
      "A value is trying to be set on a copy of a slice from a DataFrame\n",
      "\n",
      "See the caveats in the documentation: https://pandas.pydata.org/pandas-docs/stable/user_guide/indexing.html#returning-a-view-versus-a-copy\n",
      "  return super().drop(\n"
     ]
    },
    {
     "data": {
      "text/html": [
       "<div>\n",
       "<style scoped>\n",
       "    .dataframe tbody tr th:only-of-type {\n",
       "        vertical-align: middle;\n",
       "    }\n",
       "\n",
       "    .dataframe tbody tr th {\n",
       "        vertical-align: top;\n",
       "    }\n",
       "\n",
       "    .dataframe thead th {\n",
       "        text-align: right;\n",
       "    }\n",
       "</style>\n",
       "<table border=\"1\" class=\"dataframe\">\n",
       "  <thead>\n",
       "    <tr style=\"text-align: right;\">\n",
       "      <th></th>\n",
       "      <th>chnl_dv</th>\n",
       "      <th>cop_c</th>\n",
       "      <th>br_c</th>\n",
       "      <th>pd_c</th>\n",
       "      <th>de_dt</th>\n",
       "      <th>de_hr</th>\n",
       "      <th>buy_am</th>\n",
       "      <th>buy_ct</th>\n",
       "      <th>ma_fem_dv</th>\n",
       "      <th>ages</th>\n",
       "      <th>zon_hlv</th>\n",
       "      <th>clac_hlv_nm</th>\n",
       "      <th>Lpay_use</th>\n",
       "    </tr>\n",
       "  </thead>\n",
       "  <tbody>\n",
       "    <tr>\n",
       "      <th>0</th>\n",
       "      <td>1</td>\n",
       "      <td>A01</td>\n",
       "      <td>A010039</td>\n",
       "      <td>PD0290</td>\n",
       "      <td>20210101</td>\n",
       "      <td>10</td>\n",
       "      <td>15000.0</td>\n",
       "      <td>1.0</td>\n",
       "      <td>여성</td>\n",
       "      <td>50대</td>\n",
       "      <td>Z17</td>\n",
       "      <td>남성의류</td>\n",
       "      <td>0</td>\n",
       "    </tr>\n",
       "    <tr>\n",
       "      <th>1</th>\n",
       "      <td>1</td>\n",
       "      <td>A01</td>\n",
       "      <td>A010025</td>\n",
       "      <td>PD1369</td>\n",
       "      <td>20210101</td>\n",
       "      <td>10</td>\n",
       "      <td>79700.0</td>\n",
       "      <td>1.0</td>\n",
       "      <td>여성</td>\n",
       "      <td>40대</td>\n",
       "      <td>Z13</td>\n",
       "      <td>주방잡화</td>\n",
       "      <td>0</td>\n",
       "    </tr>\n",
       "    <tr>\n",
       "      <th>2</th>\n",
       "      <td>1</td>\n",
       "      <td>A01</td>\n",
       "      <td>A010039</td>\n",
       "      <td>PD0290</td>\n",
       "      <td>20210101</td>\n",
       "      <td>10</td>\n",
       "      <td>19000.0</td>\n",
       "      <td>1.0</td>\n",
       "      <td>여성</td>\n",
       "      <td>50대</td>\n",
       "      <td>Z17</td>\n",
       "      <td>남성의류</td>\n",
       "      <td>0</td>\n",
       "    </tr>\n",
       "    <tr>\n",
       "      <th>3</th>\n",
       "      <td>1</td>\n",
       "      <td>A01</td>\n",
       "      <td>A010039</td>\n",
       "      <td>PD0290</td>\n",
       "      <td>20210101</td>\n",
       "      <td>10</td>\n",
       "      <td>19000.0</td>\n",
       "      <td>1.0</td>\n",
       "      <td>여성</td>\n",
       "      <td>50대</td>\n",
       "      <td>Z17</td>\n",
       "      <td>남성의류</td>\n",
       "      <td>0</td>\n",
       "    </tr>\n",
       "    <tr>\n",
       "      <th>4</th>\n",
       "      <td>1</td>\n",
       "      <td>A01</td>\n",
       "      <td>A010039</td>\n",
       "      <td>PD1692</td>\n",
       "      <td>20210101</td>\n",
       "      <td>10</td>\n",
       "      <td>9900.0</td>\n",
       "      <td>1.0</td>\n",
       "      <td>여성</td>\n",
       "      <td>50대</td>\n",
       "      <td>Z17</td>\n",
       "      <td>테넌트/음식점</td>\n",
       "      <td>0</td>\n",
       "    </tr>\n",
       "    <tr>\n",
       "      <th>...</th>\n",
       "      <td>...</td>\n",
       "      <td>...</td>\n",
       "      <td>...</td>\n",
       "      <td>...</td>\n",
       "      <td>...</td>\n",
       "      <td>...</td>\n",
       "      <td>...</td>\n",
       "      <td>...</td>\n",
       "      <td>...</td>\n",
       "      <td>...</td>\n",
       "      <td>...</td>\n",
       "      <td>...</td>\n",
       "      <td>...</td>\n",
       "    </tr>\n",
       "    <tr>\n",
       "      <th>1266584</th>\n",
       "      <td>2</td>\n",
       "      <td>A06</td>\n",
       "      <td>0</td>\n",
       "      <td>PD0507</td>\n",
       "      <td>20211231</td>\n",
       "      <td>22</td>\n",
       "      <td>50000.0</td>\n",
       "      <td>1.0</td>\n",
       "      <td>여성</td>\n",
       "      <td>40대</td>\n",
       "      <td>Z17</td>\n",
       "      <td>상품권</td>\n",
       "      <td>0</td>\n",
       "    </tr>\n",
       "    <tr>\n",
       "      <th>1266585</th>\n",
       "      <td>2</td>\n",
       "      <td>A06</td>\n",
       "      <td>0</td>\n",
       "      <td>PD0507</td>\n",
       "      <td>20211231</td>\n",
       "      <td>22</td>\n",
       "      <td>10000.0</td>\n",
       "      <td>1.0</td>\n",
       "      <td>여성</td>\n",
       "      <td>40대</td>\n",
       "      <td>Z17</td>\n",
       "      <td>상품권</td>\n",
       "      <td>0</td>\n",
       "    </tr>\n",
       "    <tr>\n",
       "      <th>1266586</th>\n",
       "      <td>2</td>\n",
       "      <td>A06</td>\n",
       "      <td>0</td>\n",
       "      <td>PD0294</td>\n",
       "      <td>20211231</td>\n",
       "      <td>23</td>\n",
       "      <td>289000.0</td>\n",
       "      <td>1.0</td>\n",
       "      <td>남성</td>\n",
       "      <td>20대</td>\n",
       "      <td>Z17</td>\n",
       "      <td>남성의류</td>\n",
       "      <td>0</td>\n",
       "    </tr>\n",
       "    <tr>\n",
       "      <th>1266587</th>\n",
       "      <td>2</td>\n",
       "      <td>A06</td>\n",
       "      <td>0</td>\n",
       "      <td>PD0507</td>\n",
       "      <td>20211231</td>\n",
       "      <td>23</td>\n",
       "      <td>200000.0</td>\n",
       "      <td>1.0</td>\n",
       "      <td>남성</td>\n",
       "      <td>40대</td>\n",
       "      <td>Z10</td>\n",
       "      <td>상품권</td>\n",
       "      <td>0</td>\n",
       "    </tr>\n",
       "    <tr>\n",
       "      <th>1266588</th>\n",
       "      <td>2</td>\n",
       "      <td>A06</td>\n",
       "      <td>0</td>\n",
       "      <td>PD0507</td>\n",
       "      <td>20211231</td>\n",
       "      <td>23</td>\n",
       "      <td>50000.0</td>\n",
       "      <td>1.0</td>\n",
       "      <td>남성</td>\n",
       "      <td>40대</td>\n",
       "      <td>Z10</td>\n",
       "      <td>상품권</td>\n",
       "      <td>0</td>\n",
       "    </tr>\n",
       "  </tbody>\n",
       "</table>\n",
       "<p>1266589 rows × 13 columns</p>\n",
       "</div>"
      ],
      "text/plain": [
       "         chnl_dv cop_c     br_c    pd_c     de_dt  de_hr    buy_am  buy_ct  \\\n",
       "0              1   A01  A010039  PD0290  20210101     10   15000.0     1.0   \n",
       "1              1   A01  A010025  PD1369  20210101     10   79700.0     1.0   \n",
       "2              1   A01  A010039  PD0290  20210101     10   19000.0     1.0   \n",
       "3              1   A01  A010039  PD0290  20210101     10   19000.0     1.0   \n",
       "4              1   A01  A010039  PD1692  20210101     10    9900.0     1.0   \n",
       "...          ...   ...      ...     ...       ...    ...       ...     ...   \n",
       "1266584        2   A06        0  PD0507  20211231     22   50000.0     1.0   \n",
       "1266585        2   A06        0  PD0507  20211231     22   10000.0     1.0   \n",
       "1266586        2   A06        0  PD0294  20211231     23  289000.0     1.0   \n",
       "1266587        2   A06        0  PD0507  20211231     23  200000.0     1.0   \n",
       "1266588        2   A06        0  PD0507  20211231     23   50000.0     1.0   \n",
       "\n",
       "        ma_fem_dv ages zon_hlv clac_hlv_nm  Lpay_use  \n",
       "0              여성  50대     Z17        남성의류         0  \n",
       "1              여성  40대     Z13        주방잡화         0  \n",
       "2              여성  50대     Z17        남성의류         0  \n",
       "3              여성  50대     Z17        남성의류         0  \n",
       "4              여성  50대     Z17     테넌트/음식점         0  \n",
       "...           ...  ...     ...         ...       ...  \n",
       "1266584        여성  40대     Z17         상품권         0  \n",
       "1266585        여성  40대     Z17         상품권         0  \n",
       "1266586        남성  20대     Z17        남성의류         0  \n",
       "1266587        남성  40대     Z10         상품권         0  \n",
       "1266588        남성  40대     Z10         상품권         0  \n",
       "\n",
       "[1266589 rows x 13 columns]"
      ]
     },
     "execution_count": 18,
     "metadata": {},
     "output_type": "execute_result"
    }
   ],
   "source": [
    "main_df.drop(columns=['cust', 'rct_no'], inplace=True, axis = 1)\n",
    "main_df"
   ]
  },
  {
   "cell_type": "markdown",
   "metadata": {},
   "source": [
    "##### Types 변환"
   ]
  },
  {
   "cell_type": "code",
   "execution_count": 19,
   "metadata": {
    "ExecuteTime": {
     "end_time": "2022-07-28T16:14:36.388441Z",
     "start_time": "2022-07-28T16:14:35.469800Z"
    }
   },
   "outputs": [
    {
     "name": "stderr",
     "output_type": "stream",
     "text": [
      "<ipython-input-19-b833e7a56f3a>:1: SettingWithCopyWarning: \n",
      "A value is trying to be set on a copy of a slice from a DataFrame.\n",
      "Try using .loc[row_indexer,col_indexer] = value instead\n",
      "\n",
      "See the caveats in the documentation: https://pandas.pydata.org/pandas-docs/stable/user_guide/indexing.html#returning-a-view-versus-a-copy\n",
      "  main_df['buy_ct'] = main_df['buy_ct'].astype('int64')\n",
      "<ipython-input-19-b833e7a56f3a>:2: SettingWithCopyWarning: \n",
      "A value is trying to be set on a copy of a slice from a DataFrame.\n",
      "Try using .loc[row_indexer,col_indexer] = value instead\n",
      "\n",
      "See the caveats in the documentation: https://pandas.pydata.org/pandas-docs/stable/user_guide/indexing.html#returning-a-view-versus-a-copy\n",
      "  main_df['buy_am'] = main_df['buy_am'].astype('int64')\n"
     ]
    },
    {
     "name": "stdout",
     "output_type": "stream",
     "text": [
      "<class 'pandas.core.frame.DataFrame'>\n",
      "RangeIndex: 1266589 entries, 0 to 1266588\n",
      "Data columns (total 13 columns):\n",
      " #   Column       Non-Null Count    Dtype \n",
      "---  ------       --------------    ----- \n",
      " 0   chnl_dv      1266589 non-null  int64 \n",
      " 1   cop_c        1266589 non-null  object\n",
      " 2   br_c         1266589 non-null  object\n",
      " 3   pd_c         1266589 non-null  object\n",
      " 4   de_dt        1266589 non-null  int64 \n",
      " 5   de_hr        1266589 non-null  int64 \n",
      " 6   buy_am       1266589 non-null  int64 \n",
      " 7   buy_ct       1266589 non-null  int64 \n",
      " 8   ma_fem_dv    1266589 non-null  object\n",
      " 9   ages         1266589 non-null  object\n",
      " 10  zon_hlv      1266589 non-null  object\n",
      " 11  clac_hlv_nm  1266589 non-null  object\n",
      " 12  Lpay_use     1266589 non-null  int32 \n",
      "dtypes: int32(1), int64(5), object(7)\n",
      "memory usage: 120.8+ MB\n"
     ]
    }
   ],
   "source": [
    "main_df['buy_ct'] = main_df['buy_ct'].astype('int64')\n",
    "main_df['buy_am'] = main_df['buy_am'].astype('int64')\n",
    "main_df.info()"
   ]
  },
  {
   "cell_type": "markdown",
   "metadata": {},
   "source": [
    "##### Object Columns Preprocess"
   ]
  },
  {
   "cell_type": "markdown",
   "metadata": {},
   "source": [
    "1. cop_c -> 6개라 Pass\n",
    "2. br_c -> 6000개 이상 Check\n",
    "3. pd_c -> 20개 이상 Check\n",
    "4. ma_fem_dv -> 2개 Pass\n",
    "5. ages -> Pass\n",
    "6. zon_hlv -> Pass\n",
    "7. clac_hlv_nm -> 20개 이상 Check"
   ]
  },
  {
   "cell_type": "code",
   "execution_count": 20,
   "metadata": {
    "ExecuteTime": {
     "end_time": "2022-07-28T16:21:12.196041Z",
     "start_time": "2022-07-28T16:14:36.392365Z"
    }
   },
   "outputs": [
    {
     "name": "stderr",
     "output_type": "stream",
     "text": [
      "<ipython-input-20-21d615f8c403>:2: SettingWithCopyWarning: \n",
      "A value is trying to be set on a copy of a slice from a DataFrame.\n",
      "Try using .loc[row_indexer,col_indexer] = value instead\n",
      "\n",
      "See the caveats in the documentation: https://pandas.pydata.org/pandas-docs/stable/user_guide/indexing.html#returning-a-view-versus-a-copy\n",
      "  main_df['br_c'] = main_df['br_c'].replace(br_idx, 999)\n"
     ]
    }
   ],
   "source": [
    "br_idx = main_df['br_c'].value_counts()[41:].index.tolist()\n",
    "main_df['br_c'] = main_df['br_c'].replace(br_idx, 999)"
   ]
  },
  {
   "cell_type": "code",
   "execution_count": 21,
   "metadata": {
    "ExecuteTime": {
     "end_time": "2022-07-28T16:21:12.435682Z",
     "start_time": "2022-07-28T16:21:12.198934Z"
    }
   },
   "outputs": [
    {
     "data": {
      "text/plain": [
       "999        694585\n",
       "0           97690\n",
       "A010002     50789\n",
       "A010004     30269\n",
       "A010001     26343\n",
       "A010026     21062\n",
       "A020006     19808\n",
       "A010034     19709\n",
       "A010037     18461\n",
       "A010017     17460\n",
       "A010045     15165\n",
       "A010015     12540\n",
       "A010024     11397\n",
       "A010053     11256\n",
       "A010020     10769\n",
       "A010011      9562\n",
       "A010062      9548\n",
       "A020013      9382\n",
       "A010060      9177\n",
       "A010063      8829\n",
       "A010028      8804\n",
       "A010039      8601\n",
       "A010008      8451\n",
       "A010003      8424\n",
       "A010033      8194\n",
       "A020010      8151\n",
       "A010013      7976\n",
       "A010042      7789\n",
       "A010032      7757\n",
       "A020036      7620\n",
       "A010041      7497\n",
       "A020008      7207\n",
       "A010006      7155\n",
       "A010025      6965\n",
       "A020096      6868\n",
       "A020037      6826\n",
       "A010043      6650\n",
       "A020007      6636\n",
       "A010058      6399\n",
       "A010027      6346\n",
       "A010023      6255\n",
       "A020023      6217\n",
       "Name: br_c, dtype: int64"
      ]
     },
     "execution_count": 21,
     "metadata": {},
     "output_type": "execute_result"
    }
   ],
   "source": [
    "main_df['br_c'].value_counts()"
   ]
  },
  {
   "cell_type": "code",
   "execution_count": 22,
   "metadata": {
    "ExecuteTime": {
     "end_time": "2022-07-28T16:23:25.463686Z",
     "start_time": "2022-07-28T16:21:12.441666Z"
    }
   },
   "outputs": [
    {
     "name": "stderr",
     "output_type": "stream",
     "text": [
      "<ipython-input-22-9d3319e136c7>:2: SettingWithCopyWarning: \n",
      "A value is trying to be set on a copy of a slice from a DataFrame.\n",
      "Try using .loc[row_indexer,col_indexer] = value instead\n",
      "\n",
      "See the caveats in the documentation: https://pandas.pydata.org/pandas-docs/stable/user_guide/indexing.html#returning-a-view-versus-a-copy\n",
      "  main_df['pd_c'] = main_df['pd_c'].replace(br_idx, 9999)\n"
     ]
    }
   ],
   "source": [
    "br_idx = main_df['pd_c'].value_counts()[41:].index.tolist()\n",
    "main_df['pd_c'] = main_df['pd_c'].replace(br_idx, 9999)"
   ]
  },
  {
   "cell_type": "code",
   "execution_count": 23,
   "metadata": {
    "ExecuteTime": {
     "end_time": "2022-07-28T16:23:25.734287Z",
     "start_time": "2022-07-28T16:23:25.475231Z"
    }
   },
   "outputs": [
    {
     "data": {
      "text/plain": [
       "9999      806583\n",
       "PD0288     31157\n",
       "PD0232     21682\n",
       "PD1689     19482\n",
       "PD1156     17275\n",
       "PD1683     16597\n",
       "PD1484     15443\n",
       "PD1694     14837\n",
       "PD0949     13835\n",
       "PD0480     13764\n",
       "PD0298     13714\n",
       "PD1692     12970\n",
       "PD1181     12814\n",
       "PD0381     12748\n",
       "PD0218     11972\n",
       "PD1255     11286\n",
       "PD1330     11255\n",
       "PD1690     10836\n",
       "PD1173     10675\n",
       "PD0290     10064\n",
       "PD1486      9972\n",
       "PD0409      9852\n",
       "PD0380      9729\n",
       "PD1333      9259\n",
       "PD1152      9174\n",
       "PD0403      8999\n",
       "PD1685      8998\n",
       "PD1699      8858\n",
       "PD0777      8794\n",
       "PD1387      8694\n",
       "PD0413      8419\n",
       "PD0197      8103\n",
       "PD0228      7526\n",
       "PD1688      7404\n",
       "PD1183      7342\n",
       "PD1684      7221\n",
       "PD1331      7175\n",
       "PD1155      6917\n",
       "PD0957      6588\n",
       "PD1154      6352\n",
       "PD0964      6162\n",
       "PD1827      6062\n",
       "Name: pd_c, dtype: int64"
      ]
     },
     "execution_count": 23,
     "metadata": {},
     "output_type": "execute_result"
    }
   ],
   "source": [
    "main_df['pd_c'].value_counts()"
   ]
  },
  {
   "cell_type": "code",
   "execution_count": 24,
   "metadata": {
    "ExecuteTime": {
     "end_time": "2022-07-28T16:23:28.025459Z",
     "start_time": "2022-07-28T16:23:25.740180Z"
    }
   },
   "outputs": [
    {
     "name": "stderr",
     "output_type": "stream",
     "text": [
      "<ipython-input-24-d2cd53014e9f>:2: SettingWithCopyWarning: \n",
      "A value is trying to be set on a copy of a slice from a DataFrame.\n",
      "Try using .loc[row_indexer,col_indexer] = value instead\n",
      "\n",
      "See the caveats in the documentation: https://pandas.pydata.org/pandas-docs/stable/user_guide/indexing.html#returning-a-view-versus-a-copy\n",
      "  main_df['clac_hlv_nm'] = main_df['clac_hlv_nm'].replace(br_idx, 99999)\n"
     ]
    }
   ],
   "source": [
    "br_idx = main_df['clac_hlv_nm'].value_counts()[21:].index.tolist()\n",
    "main_df['clac_hlv_nm'] = main_df['clac_hlv_nm'].replace(br_idx, 99999)"
   ]
  },
  {
   "cell_type": "code",
   "execution_count": 25,
   "metadata": {
    "ExecuteTime": {
     "end_time": "2022-07-28T16:23:28.310584Z",
     "start_time": "2022-07-28T16:23:28.029420Z"
    }
   },
   "outputs": [
    {
     "data": {
      "text/plain": [
       "99999       249151\n",
       "테넌트/음식점     125716\n",
       "과자           86080\n",
       "음료           71244\n",
       "채소           63443\n",
       "대용식          59314\n",
       "여성의류         56422\n",
       "유제품          56410\n",
       "과일           49706\n",
       "냉장식품         48429\n",
       "스포츠패션        45560\n",
       "패션잡화         42238\n",
       "조리식품         42065\n",
       "주류           41095\n",
       "남성의류         38669\n",
       "축산물          37768\n",
       "기타(비상품)      34189\n",
       "화장품/뷰티케어     26659\n",
       "담배           26315\n",
       "냉동식품         24763\n",
       "조미료          21419\n",
       "문구/사무용품      19934\n",
       "Name: clac_hlv_nm, dtype: int64"
      ]
     },
     "execution_count": 25,
     "metadata": {},
     "output_type": "execute_result"
    }
   ],
   "source": [
    "main_df['clac_hlv_nm'].value_counts()"
   ]
  },
  {
   "cell_type": "markdown",
   "metadata": {},
   "source": [
    "------------------------------------------------------DF -> CSV-------------------------------------------------------"
   ]
  },
  {
   "cell_type": "code",
   "execution_count": 26,
   "metadata": {
    "ExecuteTime": {
     "end_time": "2022-07-28T16:23:39.240457Z",
     "start_time": "2022-07-28T16:23:28.314574Z"
    }
   },
   "outputs": [],
   "source": [
    "main_df.to_csv(\"C:/Users/legg0/Desktop/main_df.csv\", header = False, index = False)"
   ]
  },
  {
   "cell_type": "markdown",
   "metadata": {},
   "source": [
    "### 결측치확인"
   ]
  },
  {
   "cell_type": "code",
   "execution_count": 27,
   "metadata": {
    "ExecuteTime": {
     "end_time": "2022-07-28T16:23:40.679721Z",
     "start_time": "2022-07-28T16:23:39.244295Z"
    }
   },
   "outputs": [
    {
     "ename": "NameError",
     "evalue": "name 'real_df' is not defined",
     "output_type": "error",
     "traceback": [
      "\u001b[1;31m---------------------------------------------------------------------------\u001b[0m",
      "\u001b[1;31mNameError\u001b[0m                                 Traceback (most recent call last)",
      "\u001b[1;32m<ipython-input-27-7a187c6aa4de>\u001b[0m in \u001b[0;36m<module>\u001b[1;34m\u001b[0m\n\u001b[1;32m----> 1\u001b[1;33m \u001b[0mnp\u001b[0m\u001b[1;33m.\u001b[0m\u001b[0mmean\u001b[0m\u001b[1;33m(\u001b[0m\u001b[0mreal_df\u001b[0m\u001b[1;33m[\u001b[0m\u001b[0mreal_df\u001b[0m\u001b[1;33m[\u001b[0m\u001b[1;34m'buy_ct'\u001b[0m\u001b[1;33m]\u001b[0m \u001b[1;33m==\u001b[0m \u001b[1;36m1\u001b[0m\u001b[1;33m]\u001b[0m\u001b[1;33m[\u001b[0m\u001b[1;34m'buy_am'\u001b[0m\u001b[1;33m]\u001b[0m\u001b[1;33m)\u001b[0m\u001b[1;33m\u001b[0m\u001b[1;33m\u001b[0m\u001b[0m\n\u001b[0m",
      "\u001b[1;31mNameError\u001b[0m: name 'real_df' is not defined"
     ]
    }
   ],
   "source": [
    "np.mean(real_df[real_df['buy_ct'] == 1]['buy_am'])"
   ]
  },
  {
   "cell_type": "code",
   "execution_count": null,
   "metadata": {
    "ExecuteTime": {
     "end_time": "2022-07-28T16:23:40.685534Z",
     "start_time": "2022-07-28T16:13:25.610Z"
    }
   },
   "outputs": [],
   "source": [
    "real_df['clac_hlv_nm'].value_counts()[:20]"
   ]
  },
  {
   "cell_type": "code",
   "execution_count": null,
   "metadata": {
    "ExecuteTime": {
     "end_time": "2022-07-28T16:23:40.689677Z",
     "start_time": "2022-07-28T16:13:25.614Z"
    }
   },
   "outputs": [],
   "source": [
    "real_df['clac_hlv_nm'].value_counts()[:20]"
   ]
  },
  {
   "cell_type": "code",
   "execution_count": null,
   "metadata": {
    "ExecuteTime": {
     "end_time": "2022-07-28T16:23:40.692519Z",
     "start_time": "2022-07-28T16:13:25.618Z"
    }
   },
   "outputs": [],
   "source": [
    "df1['br_c'].value_counts()[:20]"
   ]
  },
  {
   "cell_type": "code",
   "execution_count": null,
   "metadata": {
    "ExecuteTime": {
     "end_time": "2022-07-28T16:23:40.695508Z",
     "start_time": "2022-07-28T16:13:25.622Z"
    }
   },
   "outputs": [],
   "source": [
    "real_df['pd_c'].value_counts()[:20]"
   ]
  },
  {
   "cell_type": "markdown",
   "metadata": {},
   "source": [
    "* Lpay결제 여부이니까 영수증 groupby해주면 좋음\n",
    "* Lpay를 사용하는 데 있어서 제품 구매가 큰 영향을 줄까?\n",
    "* 개인화(고객)의 영역에 있어서는 개인화 마케팅에 초점 맞춰서 그럴 수 있다 판단함\n",
    "* 다른 컬럼에 대해서 어떤 컬럼이 큰 영향을 줄까?"
   ]
  },
  {
   "cell_type": "code",
   "execution_count": null,
   "metadata": {
    "ExecuteTime": {
     "end_time": "2022-07-28T16:23:40.699502Z",
     "start_time": "2022-07-28T16:13:25.626Z"
    }
   },
   "outputs": [],
   "source": [
    "tmp = tmp_df.duplicated(subset = ['rct_no'])\n",
    "tmp"
   ]
  },
  {
   "cell_type": "code",
   "execution_count": null,
   "metadata": {
    "ExecuteTime": {
     "end_time": "2022-07-28T16:23:40.703487Z",
     "start_time": "2022-07-28T16:13:25.630Z"
    }
   },
   "outputs": [],
   "source": [
    "main_df['br_c'].value_counts()"
   ]
  },
  {
   "cell_type": "code",
   "execution_count": null,
   "metadata": {
    "ExecuteTime": {
     "end_time": "2022-07-28T16:23:40.706479Z",
     "start_time": "2022-07-28T16:13:25.633Z"
    }
   },
   "outputs": [],
   "source": [
    "main_df['clac_hlv_nm'].value_counts()"
   ]
  },
  {
   "cell_type": "markdown",
   "metadata": {},
   "source": [
    " * 어짜피 Lpay 사용 여부 판단 모델이니 그룹바이해서 한사람이 한 번 결제하는 거니 묶어버림\n",
    " * 120만개 target -> 0\n",
    " * 6만개 target -> 1\n",
    " * 오버 샘플링 "
   ]
  },
  {
   "cell_type": "code",
   "execution_count": null,
   "metadata": {
    "ExecuteTime": {
     "end_time": "2022-07-28T16:23:40.709471Z",
     "start_time": "2022-07-28T16:13:25.637Z"
    }
   },
   "outputs": [],
   "source": [
    "real_df.columns"
   ]
  },
  {
   "cell_type": "markdown",
   "metadata": {},
   "source": [
    "* groupby 해주면 120만개로 확줄어드는 것 확인할 수 있음\n",
    "* target값 Lpay는 중복없음 확인함 20만개 \n",
    "* 100만: 20만\n",
    "* 결측치 처리만 어떻게하면 좋은 Model 만들 수 있을 것 같은데\n",
    "* 제품 3개 중 하나 또는 두개만 남겨도 되지 않을까?\n",
    "* 데이터를 어느 정도 가져갈 것이며, 결측치는 어떻게 해결해야 할지 감이안옴\n",
    "\n",
    "\n",
    "* 하나 대안은 언더샘플링 진행하고, 홀드 아웃 통해서 모델 성능 올리는 방안"
   ]
  },
  {
   "cell_type": "markdown",
   "metadata": {},
   "source": [
    "## Modeling"
   ]
  },
  {
   "cell_type": "markdown",
   "metadata": {},
   "source": [
    "* Sampling 어떻게 할지 -> \n",
    "*"
   ]
  },
  {
   "cell_type": "code",
   "execution_count": null,
   "metadata": {
    "ExecuteTime": {
     "end_time": "2022-07-28T16:23:40.713461Z",
     "start_time": "2022-07-28T16:13:25.642Z"
    }
   },
   "outputs": [],
   "source": [
    "pip install imbalanced-learn"
   ]
  },
  {
   "cell_type": "code",
   "execution_count": null,
   "metadata": {
    "ExecuteTime": {
     "end_time": "2022-07-28T16:23:40.717449Z",
     "start_time": "2022-07-28T16:13:25.646Z"
    }
   },
   "outputs": [],
   "source": [
    "from sklearn.datasets import make_classification\n",
    "from collections import Counter\n",
    "from imblearn.under_sampling import RandomUnderSampler\n",
    "from imblearn.over_sampling import RandomOverSampler\n",
    "from imblearn.over_sampling import SMOTE\n",
    "\n",
    "from sklearn.model_selection import train_test_split"
   ]
  },
  {
   "cell_type": "code",
   "execution_count": null,
   "metadata": {
    "ExecuteTime": {
     "end_time": "2022-07-28T16:23:40.720441Z",
     "start_time": "2022-07-28T16:13:25.649Z"
    }
   },
   "outputs": [],
   "source": [
    "X = tmp_df.drop('Lpay_use', axis = 1)\n",
    "Y = tmp_df['Lpay_use']"
   ]
  },
  {
   "cell_type": "code",
   "execution_count": null,
   "metadata": {
    "ExecuteTime": {
     "end_time": "2022-07-28T16:23:40.724536Z",
     "start_time": "2022-07-28T16:13:25.653Z"
    }
   },
   "outputs": [],
   "source": [
    "train_X, test_X, train_Y, test_Y = train_test_split(X, Y)"
   ]
  },
  {
   "cell_type": "code",
   "execution_count": null,
   "metadata": {
    "ExecuteTime": {
     "end_time": "2022-07-28T16:23:40.727428Z",
     "start_time": "2022-07-28T16:13:25.658Z"
    }
   },
   "outputs": [],
   "source": [
    "train_Y.value_counts()"
   ]
  },
  {
   "cell_type": "code",
   "execution_count": null,
   "metadata": {
    "ExecuteTime": {
     "end_time": "2022-07-28T16:23:40.731415Z",
     "start_time": "2022-07-28T16:13:25.662Z"
    }
   },
   "outputs": [],
   "source": [
    "from sklearn.neighbors import KNeighborsClassifier as KNN\n",
    "from sklearn.metrics import *\n",
    "\n",
    "KNN_model = KNN(n_neighbors = 11).fit(train_X, train_Y)\n",
    "pred_Y = KNN_model.predict(test_X)\n",
    "print(recall_score(test_Y, pred_Y))\n",
    "print(accuracy_score(test_Y, pred_Y))"
   ]
  },
  {
   "cell_type": "code",
   "execution_count": null,
   "metadata": {
    "ExecuteTime": {
     "end_time": "2022-07-28T16:23:40.734376Z",
     "start_time": "2022-07-28T16:13:25.666Z"
    }
   },
   "outputs": [],
   "source": [
    "undersample = RandomUnderSampler(sampling_strategy='majority')"
   ]
  },
  {
   "cell_type": "code",
   "execution_count": null,
   "metadata": {
    "ExecuteTime": {
     "end_time": "2022-07-28T16:23:40.737401Z",
     "start_time": "2022-07-28T16:13:25.670Z"
    }
   },
   "outputs": [],
   "source": [
    "one-hot -> 태준이 모델의 문제점은 클래스 불균형 맞추고 각자 모델 돌립시다\n",
    "지금 하기로한 데이터\n",
    "건하씨 csv "
   ]
  }
 ],
 "metadata": {
  "kernelspec": {
   "display_name": "Python 3",
   "language": "python",
   "name": "python3"
  },
  "language_info": {
   "codemirror_mode": {
    "name": "ipython",
    "version": 3
   },
   "file_extension": ".py",
   "mimetype": "text/x-python",
   "name": "python",
   "nbconvert_exporter": "python",
   "pygments_lexer": "ipython3",
   "version": "3.8.5"
  },
  "toc": {
   "base_numbering": 1,
   "nav_menu": {},
   "number_sections": true,
   "sideBar": true,
   "skip_h1_title": false,
   "title_cell": "Table of Contents",
   "title_sidebar": "Contents",
   "toc_cell": false,
   "toc_position": {
    "height": "calc(100% - 180px)",
    "left": "10px",
    "top": "150px",
    "width": "384px"
   },
   "toc_section_display": true,
   "toc_window_display": true
  }
 },
 "nbformat": 4,
 "nbformat_minor": 4
}
